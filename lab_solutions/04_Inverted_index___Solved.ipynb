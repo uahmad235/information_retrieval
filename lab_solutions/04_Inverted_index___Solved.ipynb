{
  "cells": [
    {
      "cell_type": "markdown",
      "metadata": {
        "id": "_FshbQt69BjF"
      },
      "source": [
        "# Building inverted index and answering queries\n",
        "\n",
        "In this lab you are going to implement a standard document processing pipeline and then build a simple search engine based on it:\n",
        "- starting from crawling documents, \n",
        "- then building an inverted index,\n",
        "- and answering queries using this index.\n",
        "\n",
        "## Preprocessing\n",
        "\n",
        "First, we need a unified approach to documents and queries preprocessing. Implement a class responsible for that. Complete the code for given functions (most of them are just one-liners) and make sure you pass the tests. Make use of `nltk` library, `spacy`, or any other you know."
      ]
    },
    {
      "cell_type": "code",
      "execution_count": null,
      "metadata": {
        "id": "7UoLqG7S9BjG",
        "colab": {
          "base_uri": "https://localhost:8080/"
        },
        "outputId": "651ae1ea-de91-4a60-baf1-841f7adc29ba"
      },
      "outputs": [
        {
          "output_type": "stream",
          "name": "stderr",
          "text": [
            "[nltk_data] Downloading package punkt to /root/nltk_data...\n",
            "[nltk_data]   Unzipping tokenizers/punkt.zip.\n",
            "[nltk_data] Downloading package stopwords to /root/nltk_data...\n",
            "[nltk_data]   Unzipping corpora/stopwords.zip.\n"
          ]
        }
      ],
      "source": [
        "import nltk\n",
        "nltk.download('punkt')\n",
        "nltk.download('stopwords')\n",
        "\n",
        "class Preprocessor:\n",
        "    \n",
        "    def __init__(self):\n",
        "        self.stop_words = { 'a', 'an', 'and', 'are', 'as', 'at', 'be', 'by', \n",
        "                            'for', 'from', 'has', 'he', 'in', 'is', 'it', 'its',\n",
        "                            'of', 'on', 'that', 'the', 'to', 'was', \n",
        "                            'were', 'will', 'with'}\n",
        "        self.ps = nltk.stem.PorterStemmer()\n",
        "\n",
        "    \n",
        "    def tokenize(self, text):\n",
        "        #TODO word tokenize text using nltk lib\n",
        "        \n",
        "        return nltk.word_tokenize(text)\n",
        "\n",
        "    \n",
        "    def stem(self, word, stemmer):\n",
        "        #TODO stem word using provided stemmer\n",
        "\n",
        "        # YOUR CODE HERE\n",
        "        return stemmer.stem(word)        \n",
        "        # return 'stemmed_word'\n",
        "\n",
        "    \n",
        "    def is_apt_word(self, word):\n",
        "        #TODO check if word is appropriate - not a stop word and isalpha, \n",
        "        # i.e consists of letters, not punctuation, numbers, dates\n",
        "        \n",
        "        return (word not in self.stop_words) and (word.isalpha())\n",
        "\n",
        "    \n",
        "    def preprocess(self, text):\n",
        "        tokenized = self.tokenize(text.lower())\n",
        "        return [self.stem(w, self.ps) for w in tokenized if self.is_apt_word(w)]"
      ]
    },
    {
      "cell_type": "markdown",
      "metadata": {
        "id": "Y1UtUAib9BjI"
      },
      "source": [
        "### Tests"
      ]
    },
    {
      "cell_type": "code",
      "execution_count": null,
      "metadata": {
        "id": "AwjjJr1i9BjI"
      },
      "outputs": [],
      "source": [
        "prep = Preprocessor()\n",
        "text = 'To be, or not to be, that is the question'\n",
        "\n",
        "assert prep.tokenize(text) == ['To', 'be', ',', 'or', 'not', 'to', 'be', \n",
        "                               ',', 'that', 'is', 'the', 'question']\n",
        "assert prep.stem('retrieval', prep.ps) == 'retriev'\n",
        "assert prep.is_apt_word('qwerty123') is False\n",
        "assert prep.preprocess(text) == ['or', 'not', 'question']"
      ]
    },
    {
      "cell_type": "markdown",
      "metadata": {
        "id": "vhJYmpgR9BjI"
      },
      "source": [
        "## Crawling and Indexing\n",
        "\n",
        "### Base classes\n",
        "\n",
        "Here are some base classes you will need for writing an indexer. The code is given, still, you need to change it slightly. Namely, the `parse()` method. Add the code which will extract relevant text from the documents, particularly trageting Reuters website structure."
      ]
    },
    {
      "cell_type": "code",
      "execution_count": null,
      "metadata": {
        "id": "dhbXo-x09BjJ"
      },
      "outputs": [],
      "source": [
        "import requests\n",
        "from urllib.parse import quote\n",
        "from bs4 import BeautifulSoup\n",
        "from bs4.element import Comment\n",
        "import urllib.parse\n",
        "import os\n",
        "import re\n",
        "\n",
        "class Document:\n",
        "\n",
        "    def __init__(self, url):\n",
        "        self.url = url\n",
        "\n",
        "    def download(self):\n",
        "        try:\n",
        "            response = requests.get(self.url)\n",
        "            if response.status_code == 200:\n",
        "                self.content = response.content\n",
        "                return True\n",
        "            else:\n",
        "                return False\n",
        "        except:\n",
        "            return False\n",
        "\n",
        "    def persist(self, path):\n",
        "        # this code is not supposed to be good :) \n",
        "        # Please discuss why this line is bad\n",
        "        with open(os.path.join(path, quote(self.url).replace('/', '_')), 'wb') as f:\n",
        "            f.write(self.content)\n",
        "\n",
        "\n",
        "class HtmlReutersArticle(Document):\n",
        "\n",
        "    def normalize(self, href):\n",
        "        if href is not None and href[:4] != 'http':\n",
        "            href = urllib.parse.urljoin(self.url, href)\n",
        "        return href\n",
        "\n",
        "    def parse(self):\n",
        "        \n",
        "        def tag_visible(element):\n",
        "            if element.parent.name in ['style', 'script', 'head', 'title', 'meta', '[document]']:\n",
        "                return False\n",
        "            if isinstance(element, Comment):\n",
        "                return False\n",
        "            return True\n",
        "   \n",
        "        model = BeautifulSoup(self.content, \"html.parser\")\n",
        "        \n",
        "        self.anchors = []\n",
        "        a = model.find_all('a')\n",
        "        for anchor in a:\n",
        "            href = self.normalize(anchor.get('href'))\n",
        "            text = anchor.text\n",
        "            self.anchors.append((text, href))\n",
        "            \n",
        "        # extract only header and main content\n",
        "        # discuss why using classes like article-body__content__17Yit \n",
        "        # is the wrong strategy\n",
        "        header = model.find(re.compile('^h1'))\n",
        "        content = model.find('body')\n",
        "                        \n",
        "        if header is None or content is None:\n",
        "            self.article_text = \"\"\n",
        "            return\n",
        "        # self.header = header\n",
        "        texts = header.findAll(text=True) + content.findAll(text=True)\n",
        "        visible_texts = filter(tag_visible, texts)  \n",
        "        self.article_text = \"\\n\".join(t.strip() for t in visible_texts)"
      ]
    },
    {
      "cell_type": "code",
      "execution_count": null,
      "metadata": {
        "colab": {
          "base_uri": "https://localhost:8080/",
          "height": 157
        },
        "id": "PFlI7lXR9BjK",
        "outputId": "b406f086-055f-4d06-db13-b5ef11db34b4"
      },
      "outputs": [
        {
          "output_type": "stream",
          "name": "stderr",
          "text": [
            "<ipython-input-7-f026656eddb7>:67: DeprecationWarning: The 'text' argument to find()-type methods is deprecated. Use 'string' instead.\n",
            "  texts = header.findAll(text=True) + content.findAll(text=True)\n"
          ]
        },
        {
          "output_type": "execute_result",
          "data": {
            "text/plain": [
              "\"RPT Amazon launches virtual healthcare clinic in U.S. for common ailments\\nSkip to main content\\nExclusive news, data and analytics for financial market professionals\\nLearn more about\\nReuters home\\nWorld\\nBusiness\\nMarkets\\nBreakingviews\\nLegal\\nTechnology\\nInvestigations\\nSports\\nMore\\nMy View\\nRegister\\nEmployee Benefits & Executive Compensation\\nHealth\\n1 minute read\\nNovember 16, 2022\\n5:54 AM UTC\\nLast Updated  ago\\nRPT Amazon launches virtual healthcare clinic in U.S. for common ailments\\nReuters\\nThe Amazon logo is seen outside its JFK8 distribution center in Staten Island, New York, U.S. November 25, 2020.  REUTERS/Brendan McDermid\\nCompanies\\nAmazon.com Inc\\nFollow\\n1Life Healthcare Inc\\nFollow\\nNov 15 (Reuters) - Amazon.com Inc\\n(AMZN.O)\\non Tuesday launched Amazon clinic, a virtual platform where users can connect with healthcare providers to help treat common ailments like allergies and skin conditions.\\nAmazon has for years sought to expand its presence in healthcare, where it is a small player. It bought online pharmacy PillPack in 2018, underpinning a prescription delivery and price-comparison site it later launched as Amazon Pharmacy, which lets users buy prescription drugs.\\nAmazon said its new service would operate in 32 states, where customers who seek treatment, will be connected to healthcare providers. The service does not include health insurance and pricing will vary depending on providers, it added.\\nThe online retailer first piloted virtual care visits for its own staff in Seattle in 2019 before offering services to other employers under the Amazon Care brand, which it now plans to close down by the end of this year.\\nread more\\nThe company is also waiting to close its $3.49 billion deal to buy One Medical, as it seeks to expand its virtual healthcare presence and add brick-and-mortar doctors' offices for the first time.\\nread more\\nShares in Amazon were up about 1% in trading before the bell.\\nReporting by Bharat Govind Gautam, Eva Mathews and Manas Mishra in Bengaluru; Editing by Rashmi Aich and Dhanya Ann Thoppil\\nOur Standards:\\nThe Thomson Reuters Trust Principles.\\nRead Next\\nFuture of Health\\ncategory\\nAfter weight loss, Alzheimer's may be next frontier for drugs like Ozempic\\n10:11 AM UTC\\nUnited States\\ncategory\\nAbortion pill case to be heard by conservative, anti-abortion panel\\n6:37 PM UTC\\nCommercial Strategy\\ncategory\\nCatalent shares tank on warning of $400 mln cut to annual revenue forecast\\n3:01 PM UTC\\nCOVID-19\\ncategory\\nCash-rich BioNTech broadens scope as COVID shot sales slide\\n6:32 PM UTC\\nBusiness\\nPacWest pares gains after dividend cut fails to stem market fears\\nFinance\\ncategory\\n·\\nMay 8, 2023 · 6:37 PM UTC\\nPacWest Bancorp shares pared early gains on Monday, dragging down other U.S. regional banking stocks, as the Los Angeles-based lender's decision to slash its quarterly dividend failed to stem worries about its financial stability.\\nRetail & Consumer\\ncategory\\nTupperware brings on Moelis & Co to help explore strategic alternatives\\n1:26 PM UTC\\nFinance\\ncategory\\nExclusive: Bain Capital seeks to raise $4 bln for new global special situations fund - sources\\n5:56 PM UTC\\nCOVID-19\\ncategory\\nCash-rich BioNTech broadens scope as COVID shot sales slide\\n6:32 PM UTC\\nProduct Liability\\ncategory\\nToyota suspends sales of Yaris model in Thailand after safety test problem\\n4:36 PM UTC\\nSite Index\\nBrowse\\nWorld\\nBusiness\\nLegal\\nMarkets\\nBreakingviews\\nTechnology\\nInvestigations\\n, opens new tab\\nLifestyle\\nAbout Reuters\\nAbout Reuters\\n, opens new tab\\nCareers\\n, opens new tab\\nReuters News Agency\\n, opens new tab\\nBrand Attribution Guidelines\\n, opens new tab\\nReuters Leadership\\n, opens new tab\\nReuters Fact Check\\n, opens new tab\\nReuters Diversity Report\\n, opens new tab\\nStay Informed\\nDownload the App\\n, opens new tab\\nNewsletters\\n, opens new tab\\nInformation you can trust\\nReuters, the news and media division of Thomson Reuters, is the world’s largest multimedia news provider, reaching billions of people worldwide every day. Reuters provides business, financial, national and international news to professionals via desktop terminals, the world's media organizations, industry events and directly to consumers.\\nFollow Us\\nThomson Reuters Products\\nWestlaw\\n, opens new tab\\nBuild the strongest argument relying on authoritative content, attorney-editor expertise, and industry defining technology.\\nOnesource\\n, opens new tab\\nThe most comprehensive solution to manage all your complex and ever-expanding tax and compliance needs.\\nCheckpoint\\n, opens new tab\\nThe industry leader for online information for tax, accounting and finance professionals.\\nRefinitiv Products\\nRefinitiv Workspace\\n, opens new tab\\nAccess unmatched financial data, news and content in a highly-customised workflow experience on desktop, web and mobile.\\nRefinitiv Data Catalogue\\n, opens new tab\\nBrowse an unrivalled portfolio of real-time and historical market data and insights from worldwide sources and experts.\\nRefinitiv World-Check\\n, opens new tab\\nScreen for heightened risk individual and entities globally to help uncover hidden risks in business relationships and human networks.\\nAdvertise With Us\\n, opens new tab\\nAdvertising Guidelines\\n, opens new tab\\nCookies\\n, opens new tab\\nTerms of Use\\n, opens new tab\\nPrivacy\\n, opens new tab\\nDigital Accessibility\\n, opens new tab\\nCorrections\\n, opens new tab\\nSite Feedback\\n, opens new tab\\nAll quotes delayed a minimum of 15 minutes.\\nSee here for a complete list of exchanges and delays.\\n© 2023 Reuters.\\nAll rights reserved\""
            ],
            "application/vnd.google.colaboratory.intrinsic+json": {
              "type": "string"
            }
          },
          "metadata": {},
          "execution_count": 8
        }
      ],
      "source": [
        "doc = HtmlReutersArticle(\"https://www.reuters.com/business/healthcare-pharmaceuticals/amazon-launches-virtual-healthcare-clinic-us-2022-11-15/\")\n",
        "doc.download()\n",
        "doc.parse()\n",
        "doc.article_text"
      ]
    },
    {
      "cell_type": "markdown",
      "metadata": {
        "id": "WK8P8lVp9BjK"
      },
      "source": [
        "### Main class\n",
        "\n",
        "The main indexer logic is here. We organize it as a crawler generator that adds certain visited pages to inverted index and saves them on disk. \n",
        "\n",
        "- `crawl_generator_for_index` method crawles the given website doing BFS, starting from `source` within given `depth`. Considers only inner pages (starting with https://www.reuters.com/...) for visiting. To speed up, do not consider pages with content type other than `html`: `.pdf`, `.mp3`, `.avi`, `.mp4`, `.txt`, ... . If crawler encounters an article page (of a form https://www.reuters.com/TOPIC/NAME...), it saves its content in a file in `collection_path` folder and populates the inverted index calling `index_doc` method. When done, saves on disk three resulting dictionaries:\n",
        "    - `doc_urls`: `{doc_id : url}`\n",
        "    - `index`: `{term : [collection_frequency, (doc_id_1, doc_freq_1), (doc_id_2, doc_freq_2), ...]}`\n",
        "    - `doc_lengths`: `{doc_id : doc_length}` \n",
        "\n",
        "    `limit` parameter is given for testing - if not `None`, break the loop when number of saved articles exceeds the `limit` and return without writing dictionaries to disk.\n",
        "    \n",
        "- `index_doc` method parses and preprocesses the content of a `doc` and adds it to the inverted index. Also keeps track of document lengths in a `doc_lengths` dictionary.\n",
        "\n",
        "\n",
        "**TODO**: at line 38 we have a regular expression that matches for https://www.reuters.com/TOPIC/ARTICLE-NAME links, but fails for topic pages and external websites. Please write this regular expression."
      ]
    },
    {
      "cell_type": "code",
      "source": [
        "re.match(re.compile(\"\\s(https:\\/\\/www.reuters.com\\/)([A-Z]+)\\/([A-Z\\-]+)\\s\"),  \"https://www.reuters.com/TOPIC/NAME-AB\") "
      ],
      "metadata": {
        "id": "73vArnj-CXCa"
      },
      "execution_count": null,
      "outputs": []
    },
    {
      "cell_type": "code",
      "execution_count": null,
      "metadata": {
        "id": "z91JigXn9BjL"
      },
      "outputs": [],
      "source": [
        "from collections import Counter\n",
        "from queue import Queue\n",
        "import pickle\n",
        "import os\n",
        "import re\n",
        "\n",
        "class ReutersSpecificIndexer:\n",
        "\n",
        "    def __init__(self):      \n",
        "        # dictionaries to populate\n",
        "        self.doc_urls = {}        \n",
        "        self.index = {}\n",
        "        self.doc_lengths = {}\n",
        "        # preprocessor\n",
        "        self.prep = Preprocessor()\n",
        "        \n",
        "    \n",
        "    def crawl_generator_for_index(self, source, depth, collection_path=\"collection\", limit=None):        \n",
        "        #TODO generate url-s for visiting\n",
        "        \n",
        "        q = Queue()\n",
        "        q.put((source, 0))\n",
        "        visited = set()\n",
        "        doc_counter = 0\n",
        "        # creating a folder if needed\n",
        "        if not os.path.exists(collection_path):\n",
        "            os.makedirs(collection_path)\n",
        "        # doing a BFS\n",
        "        while not q.empty():\n",
        "            url, url_depth = q.get()\n",
        "            if url not in visited:\n",
        "                visited.add(url)\n",
        "                try:\n",
        "                    doc = HtmlReutersArticle(url)    # download and parse url\n",
        "                    if doc.download():\n",
        "                        doc.parse()\n",
        "                        # TODO PLEASE WRITE A CORRECT REGULAR EXPRESSION\n",
        "                        # re.compile()\n",
        "                        if re.match(\"https:\\//www\\.reuters\\.com/\\w+/[\\w-]+/$\", url):#re.compile(\"((https://www.reuters.com/)([A-Z]+)/([A-Z])+\\-([A-Z])+)\"), url):\n",
        "                            doc.persist(collection_path)\n",
        "                            self.doc_urls[doc_counter] = url\n",
        "                            self.index_doc(doc, doc_counter)\n",
        "                            doc_counter += 1                        \n",
        "                            yield doc\n",
        "                            if limit is not None and doc_counter == limit:\n",
        "                                return\n",
        "                            \n",
        "                            # filter links, consider only inner html pages\n",
        "                        if url_depth + 1 < depth:\n",
        "                            valid_anchors = filter(self.accepted_url, doc.anchors)\n",
        "                            for a in valid_anchors:\n",
        "                                q.put((a[1], url_depth + 1))\n",
        "    \n",
        "                except FileNotFoundError as e:\n",
        "                    print(\"Analyzing\", url, \"led to FileNotFoundError\")\n",
        "                    \n",
        "    \n",
        "    def accepted_url(self, anchor):\n",
        "        url = str(anchor[1])\n",
        "        if not url.startswith(\"https://www.reuters.com/\"):\n",
        "            return False\n",
        "        if url[-4:]  in ('.pdf', '.mp3', '.avi', '.mp4', '.txt'):\n",
        "            return False\n",
        "        return True\n",
        "        \n",
        "        \n",
        "    def index_doc(self, doc, doc_id):\n",
        "        # add documents to index\n",
        "        doc.parse()\n",
        "        # preprocess - tokenize, remove stopwords and non-alphanumeric tokens and stem\n",
        "        content = self.prep.preprocess(doc.article_text)\n",
        "        self.doc_lengths[doc_id] = len(content)\n",
        "        # get dict of terms in current article\n",
        "        article_index = Counter(content)\n",
        "        # update global index\n",
        "        for term in article_index.keys():\n",
        "            article_freq = article_index[term]\n",
        "            if term not in self.index:                \n",
        "                self.index[term] = [article_freq, (doc_id, article_freq)]\n",
        "            else:\n",
        "                self.index[term][0] += article_freq\n",
        "                self.index[term].append((doc_id, article_freq))"
      ]
    },
    {
      "cell_type": "markdown",
      "metadata": {
        "id": "RwfBGeHn9BjM"
      },
      "source": [
        "### Tests\n",
        "\n",
        "Please make sure your crawler prints out urls with `print(k, c.url)`"
      ]
    },
    {
      "cell_type": "code",
      "execution_count": null,
      "metadata": {
        "colab": {
          "base_uri": "https://localhost:8080/"
        },
        "id": "155-YE_Z9BjM",
        "outputId": "9ab47464-2ce1-4b70-ede7-7b7f20e1e2f9"
      },
      "outputs": [
        {
          "output_type": "stream",
          "name": "stderr",
          "text": [
            "<ipython-input-7-f026656eddb7>:67: DeprecationWarning: The 'text' argument to find()-type methods is deprecated. Use 'string' instead.\n",
            "  texts = header.findAll(text=True) + content.findAll(text=True)\n"
          ]
        },
        {
          "output_type": "stream",
          "name": "stdout",
          "text": [
            "1 https://www.reuters.com/technology/twitter-remove-inactive-accounts-2023-05-08/\n",
            "2 https://www.reuters.com/legal/apple-loses-bid-revive-us-copyright-claims-over-ios-simulation-2023-05-08/\n",
            "3 https://www.reuters.com/technology/truecaller-aims-help-whatsapp-users-combat-spam-2023-05-08/\n",
            "4 https://www.reuters.com/technology/disrupted/\n",
            "5 https://www.reuters.com/technology/siemens-sap-say-eu-draft-data-act-puts-trade-secrets-risk-2023-05-07/\n",
            "6 https://www.reuters.com/legal/twitter-beats-disabled-workers-lawsuit-over-layoffs-now-2023-05-08/\n",
            "7 https://www.reuters.com/legal/litigation/\n",
            "8 https://www.reuters.com/technology/crypto-stocks-fall-after-binance-halts-bitcoin-withdrawals-hours-2023-05-08/\n",
            "9 https://www.reuters.com/technology/liechtenstein-allow-payment-certain-state-services-bitcoin-handelsblatt-2023-05-08/\n",
            "10 https://www.reuters.com/technology/binance-again-temporarily-closes-bitcoin-withdrawals-2023-05-08/\n",
            "11 https://www.reuters.com/technology/ai-pioneer-says-its-threat-world-may-be-more-urgent-than-climate-change-2023-05-05/\n",
            "12 https://www.reuters.com/technology/alibaba-logistics-arm-eyes-up-2-billion-hong-kong-ipo-sources-2023-05-08/\n",
            "13 https://www.reuters.com/business/charged/\n",
            "14 https://www.reuters.com/technology/apples-results-send-shares-surging-nine-month-high-2023-05-05/\n",
            "15 https://www.reuters.com/technology/meta-platforms-scoops-up-ai-networking-chip-team-graphcore-2023-05-05/\n"
          ]
        }
      ],
      "source": [
        "indexer = ReutersSpecificIndexer()\n",
        "k = 1\n",
        "for c in indexer.crawl_generator_for_index(\n",
        "        source=\"https://www.reuters.com/technology\", \n",
        "        depth=2, \n",
        "        collection_path=\"test_collection\", \n",
        "        limit=15):\n",
        "    print(k, c.url)\n",
        "    k += 1\n",
        "\n",
        "assert type(indexer.index) is dict\n",
        "assert type(indexer.index['reuter']) is list\n",
        "assert type(indexer.index['reuter'][0]) is int\n",
        "assert type(indexer.index['reuter'][1]) is tuple"
      ]
    },
    {
      "cell_type": "markdown",
      "metadata": {
        "id": "Tz9yH74u9BjM"
      },
      "source": [
        "Please test these documents contain a desired stem (or its derivate):"
      ]
    },
    {
      "cell_type": "code",
      "execution_count": null,
      "metadata": {
        "colab": {
          "base_uri": "https://localhost:8080/"
        },
        "id": "0Ugar70L9BjN",
        "outputId": "2ec90b35-855b-4c9f-ef2a-5b77f7426e37"
      },
      "outputs": [
        {
          "output_type": "stream",
          "name": "stdout",
          "text": [
            "[2, (6, 1), (11, 1)]\n",
            "https://www.reuters.com/legal/litigation/\n",
            "https://www.reuters.com/technology/alibaba-logistics-arm-eyes-up-2-billion-hong-kong-ipo-sources-2023-05-08/\n"
          ]
        }
      ],
      "source": [
        "some_stem = 'bank'\n",
        "print(indexer.index[some_stem])\n",
        "for pair in indexer.index[some_stem][1:]:\n",
        "    print(indexer.doc_urls[pair[0]])"
      ]
    },
    {
      "cell_type": "markdown",
      "metadata": {
        "id": "tuXbRSLe9BjN"
      },
      "source": [
        "### 1.2.4. Building an index"
      ]
    },
    {
      "cell_type": "code",
      "execution_count": null,
      "metadata": {
        "colab": {
          "base_uri": "https://localhost:8080/"
        },
        "id": "e0-hnjlP9BjN",
        "outputId": "6c958f02-1cba-4e26-c6eb-43139a47a8dd"
      },
      "outputs": [
        {
          "output_type": "stream",
          "name": "stderr",
          "text": [
            "<ipython-input-7-f026656eddb7>:67: DeprecationWarning: The 'text' argument to find()-type methods is deprecated. Use 'string' instead.\n",
            "  texts = header.findAll(text=True) + content.findAll(text=True)\n"
          ]
        },
        {
          "output_type": "stream",
          "name": "stdout",
          "text": [
            "1 https://www.reuters.com/business/yellen-is-calling-ceos-personally-warn-us-debt-ceiling-sources-2023-05-08/\n",
            "2 https://www.reuters.com/technology/twitter-remove-inactive-accounts-2023-05-08/\n",
            "3 https://www.reuters.com/legal/woman-who-sued-over-subway-tuna-seeks-quit-case-subway-demands-sanctions-2023-05-08/\n",
            "4 https://www.reuters.com/legal/litigation/\n",
            "5 https://www.reuters.com/legal/twitter-beats-disabled-workers-lawsuit-over-layoffs-now-2023-05-08/\n",
            "6 https://www.reuters.com/markets/macromatters/\n",
            "7 https://www.reuters.com/business/warren-buffetts-rival-attention-berkshire-weekend-squishmallows-2023-05-08/\n",
            "8 https://www.reuters.com/podcasts/assad-cold-ukraines-religious-war-2023-05-08/\n",
            "9 https://www.reuters.com/world/us/\n",
            "10 https://www.reuters.com/world/europe/\n",
            "11 https://www.reuters.com/world/uk/\n",
            "12 https://www.reuters.com/world/americas/\n",
            "13 https://www.reuters.com/world/middle-east/\n",
            "14 https://www.reuters.com/world/top-biden-aide-discusses-yemen-peace-efforts-with-saudi-crown-prince-white-house-2023-05-08/\n",
            "15 https://www.reuters.com/world/eu-israel-cancels-europe-day-event-over-far-right-ministers-participation-2023-05-08/\n",
            "16 https://www.reuters.com/business/environment/\n",
            "17 https://www.reuters.com/sports/messi-fraser-pryce-win-top-laureus-awards-2023-05-08/\n",
            "18 https://www.reuters.com/world/slideshow-2022-06-24/\n",
            "19 https://www.reuters.com/science/how-build-giant-sauropod-dinosaurs-did-it-36-different-ways-2023-05-08/\n",
            "20 https://www.reuters.com/lifestyle/austrian-billionaires-jewels-seen-fetching-over-150-mln-auction-2023-05-08/\n",
            "21 https://www.reuters.com/lifestyle/eurovision-2023-opens-with-acts-walking-liverpools-turquoise-carpet-2023-05-07/\n",
            "22 https://www.reuters.com/world/asia-pacific/\n",
            "23 https://www.reuters.com/business/aerospace-defense/\n",
            "24 https://www.reuters.com/technology/crypto-stocks-fall-after-binance-halts-bitcoin-withdrawals-hours-2023-05-08/\n",
            "25 https://www.reuters.com/business/retail-consumer/\n",
            "26 https://www.reuters.com/technology/binance-again-temporarily-closes-bitcoin-withdrawals-2023-05-08/\n",
            "27 https://www.reuters.com/technology/uber-rival-bolt-seeks-turn-profitable-next-year-ipo-2025-2023-05-08/\n",
            "28 https://www.reuters.com/business/autos-transportation/\n",
            "29 https://www.reuters.com/tags/adas-av-safety/\n",
            "30 https://www.reuters.com/tags/commercial-strategy/\n",
            "31 https://www.reuters.com/tags/energy/\n",
            "32 https://www.reuters.com/markets/us/\n",
            "33 https://www.reuters.com/authors/jamie-mcgeever/\n",
            "34 https://www.reuters.com/authors/mike-dolan/\n",
            "35 https://www.reuters.com/authors/john-kemp/\n",
            "36 https://www.reuters.com/markets/asia/\n",
            "37 https://www.reuters.com/markets/deals/\n",
            "38 https://www.reuters.com/markets/europe/\n",
            "39 https://www.reuters.com/breakingviews/buffetts-imprint-berkshire-reaches-its-limit-2023-05-08/\n",
            "40 https://www.reuters.com/breakingviews/joined-up-g7-is-best-china-deterrent-2023-05-08/\n",
            "41 https://www.reuters.com/breakingviews/crypto-silence-is-precious-genslers-sec-2023-05-05/\n",
            "42 https://www.reuters.com/breakingviews/hsbc-vote-gives-ping-an-fresh-shove-towards-exit-2023-05-05/\n",
            "43 https://www.reuters.com/breakingviews/fuddy-duddy-meta-has-kid-problem-2023-05-05/\n",
            "44 https://www.reuters.com/breakingviews/adidas-runs-harder-also-stands-still-2023-05-05/\n",
            "45 https://www.reuters.com/breakingviews/global-markets-breakingviews-2023-05-05/\n",
            "46 https://www.reuters.com/breakingviews/beijing-expects-foreigners-trust-not-verify-2023-05-05/\n",
            "47 https://www.reuters.com/breakingviews/apples-balance-sheet-is-golden-delicious-2023-05-04/\n",
            "48 https://www.reuters.com/breakingviews/shopify-offloads-its-logistics-baggage-2023-05-04/\n",
            "49 https://www.reuters.com/breakingviews/first-republics-rescue-cements-too-big-fail-podcast-2023-05-04/\n",
            "50 https://www.reuters.com/breakingviews/how-vodafone-three-can-woo-competition-regulators-2023-05-04/\n",
            "51 https://www.reuters.com/breakingviews/novo-nordisks-chunky-valuation-risks-crash-diet-2023-05-04/\n",
            "52 https://www.reuters.com/breakingviews/its-time-hsbcs-top-owner-calms-down-or-sells-up-2023-05-04/\n",
            "53 https://www.reuters.com/breakingviews/eli-lillys-golden-ticket-is-regrettable-winner-2023-05-03/\n",
            "54 https://www.reuters.com/breakingviews/uk-listing-shakeup-requires-double-dose-hope-2023-05-03/\n",
            "55 https://www.reuters.com/breakingviews/bnp-only-partly-earns-title-europes-jpmorgan-2023-05-03/\n",
            "56 https://www.reuters.com/breakingviews/unicredits-ma-hunt-has-more-glitter-than-gold-2023-05-03/\n",
            "57 https://www.reuters.com/breakingviews/chinese-tourists-return-with-lighter-wallets-2023-05-03/\n",
            "58 https://www.reuters.com/breakingviews/ford-gm-can-afford-put-brave-face-2023-05-02/\n",
            "59 https://www.reuters.com/tags/copyright/\n",
            "60 https://www.reuters.com/legal/apple-loses-bid-revive-us-copyright-claims-over-ios-simulation-2023-05-08/\n",
            "61 https://www.reuters.com/tags/legal-industry/\n",
            "62 https://www.reuters.com/tags/lawyer-discipline/\n",
            "63 https://www.reuters.com/authors/alison-frankel/\n",
            "64 https://www.reuters.com/authors/hassan-kanu/\n",
            "65 https://www.reuters.com/authors/jenna-greene/\n",
            "66 https://www.reuters.com/tags/supreme-court-of-the-united-states/\n",
            "67 https://www.reuters.com/legal/us-supreme-court-halts-execution-oklahoma-inmate-glossip-2023-05-05/\n",
            "68 https://www.reuters.com/tags/criminal/\n",
            "69 https://www.reuters.com/tags/government/\n",
            "70 https://www.reuters.com/legal/us-supreme-court-spurns-challenge-indiana-abortion-cremation-or-burial-law-2023-05-01/\n",
            "71 https://www.reuters.com/legal/us-supreme-court-takes-up-fishermens-fight-over-us-conservation-funding-2023-05-01/\n",
            "72 https://www.reuters.com/legal/legalindustry/\n",
            "73 https://www.reuters.com/tags/attorney-analysis/\n",
            "74 https://www.reuters.com/tags/employment/\n",
            "75 https://www.reuters.com/tags/patent/\n",
            "76 https://www.reuters.com/tags/product-liability/\n",
            "77 https://www.reuters.com/legal/google-sonos-head-trial-contentious-smart-speaker-patent-fight-2023-05-05/\n",
            "78 https://www.reuters.com/tags/litigation/\n",
            "79 https://www.reuters.com/tags/people-moves/\n",
            "80 https://www.reuters.com/tags/legal-ethics/\n",
            "81 https://www.reuters.com/legal/government/\n",
            "82 https://www.reuters.com/legal/transactional/\n",
            "83 https://www.reuters.com/legal/ftx-gets-approval-ledgerx-sale-asserts-39-bln-genesis-claim-2023-05-04/\n",
            "84 https://www.reuters.com/technology/truecaller-aims-help-whatsapp-users-combat-spam-2023-05-08/\n",
            "85 https://www.reuters.com/technology/disrupted/\n",
            "86 https://www.reuters.com/technology/siemens-sap-say-eu-draft-data-act-puts-trade-secrets-risk-2023-05-07/\n",
            "87 https://www.reuters.com/technology/liechtenstein-allow-payment-certain-state-services-bitcoin-handelsblatt-2023-05-08/\n",
            "88 https://www.reuters.com/technology/ai-pioneer-says-its-threat-world-may-be-more-urgent-than-climate-change-2023-05-05/\n",
            "89 https://www.reuters.com/technology/alibaba-logistics-arm-eyes-up-2-billion-hong-kong-ipo-sources-2023-05-08/\n",
            "90 https://www.reuters.com/business/charged/\n",
            "91 https://www.reuters.com/technology/apples-results-send-shares-surging-nine-month-high-2023-05-05/\n",
            "92 https://www.reuters.com/technology/meta-platforms-scoops-up-ai-networking-chip-team-graphcore-2023-05-05/\n",
            "93 https://www.reuters.com/technology/google-plans-make-search-more-personal-with-ai-chat-video-clips-wsj-2023-05-06/\n",
            "94 https://www.reuters.com/sports/us-man-pleads-guilty-tokyo-games-doping-charges-2023-05-08/\n",
            "95 https://www.reuters.com/sports/iba-called-countries-withdraw-boxing-tournament-over-us-participation-2023-05-08/\n",
            "96 https://www.reuters.com/sports/nhl-roundup-panthers-win-ot-move-leafs-brink-2023-05-08/\n",
            "97 https://www.reuters.com/sports/chinese-premier-urges-ioc-oppose-politicisation-sports-2023-05-08/\n",
            "98 https://www.reuters.com/sports/top-fighters-unwilling-put-legacy-line-paul-2023-05-08/\n",
            "99 https://www.reuters.com/sports/soccer/\n",
            "100 https://www.reuters.com/sports/mlb-roundup-down-6-rays-stun-gerrit-cole-yanks-2023-05-08/\n"
          ]
        }
      ],
      "source": [
        "indexer = ReutersSpecificIndexer()\n",
        "for k, c in enumerate(\n",
        "                indexer\n",
        "                    .crawl_generator_for_index(\n",
        "                        \"https://www.reuters.com/\", \n",
        "                        3, \n",
        "                        \"docs_collection\",\n",
        "                        limit=100   # optional limit\n",
        "                    )):\n",
        "    print(k + 1, c.url)"
      ]
    },
    {
      "cell_type": "markdown",
      "metadata": {
        "id": "Wtk_RZCF9BjN"
      },
      "source": [
        "### Index statistics\n",
        "\n",
        "Load the index and print the statistics. May you use this data to update stopwords list?"
      ]
    },
    {
      "cell_type": "code",
      "execution_count": null,
      "metadata": {
        "colab": {
          "base_uri": "https://localhost:8080/"
        },
        "id": "TkJ0NOhv9BjN",
        "outputId": "2dde84a9-1061-4d95-afbf-f9dcc752b202"
      },
      "outputs": [
        {
          "output_type": "stream",
          "name": "stdout",
          "text": [
            "Total index keys count 4902\n",
            "\n",
            "Top stems by number of documents they apperared in:\n",
            "[('your', 79), ('worldwid', 79), ('world', 79), ('westlaw', 79), ('view', 79), ('via', 79), ('use', 79), ('us', 79), ('uncov', 79), ('thomson', 79), ('termin', 79), ('term', 79), ('technolog', 79), ('tax', 79), ('strongest', 79), ('sport', 79), ('solut', 79), ('site', 79), ('see', 79), ('screen', 79)]\n",
            "\n",
            "Top stems by overall frequency:\n",
            "[('new', 1945), ('open', 1872), ('tab', 1850), ('reuter', 1220), ('categori', 687), ('may', 584), ('news', 523), ('market', 490), ('utc', 480), ('busi', 436), ('world', 435), ('data', 379), ('pm', 336), ('refinitiv', 327), ('technolog', 321), ('breakingview', 310), ('more', 307), ('about', 301), ('industri', 297), ('s', 284)]\n"
          ]
        }
      ],
      "source": [
        "print('Total index keys count', len(indexer.index))\n",
        "\n",
        "print('\\nTop stems by number of documents they apperared in:')\n",
        "sorted_by_n_docs = sorted(indexer.index.items(), key=lambda kv: (len(kv[1]), kv[0]), reverse=True)\n",
        "print([(sorted_by_n_docs[i][0], len(sorted_by_n_docs[i][1])) for i in range(20)])\n",
        "\n",
        "print('\\nTop stems by overall frequency:')\n",
        "sorted_by_freq = sorted(indexer.index.items(), key=lambda kv: (kv[1][0], kv[0]), reverse=True)\n",
        "print([(sorted_by_freq[i][0], sorted_by_freq[i][1][0]) for i in range(20)])"
      ]
    },
    {
      "cell_type": "markdown",
      "metadata": {
        "id": "XzSl1MF39BjN"
      },
      "source": [
        "## Answering a query (finally)\n",
        "\n",
        "Now, given that we already have built the inverted index, it's time to utilize it for answering user queries. In this class there are two methods you need to implement:\n",
        "- `boolean_retrieval`, the simplest form of document retrieval which returns a set of documents such that each one contains all query terms. Returns a set of document ids. Refer to *ch.1* of the book for details;\n",
        "- `okapi_scoring`, Okapi BM25 ranking function - assigns scores to documents in the collection that are relevant to the user query. Returns a dictionary of scores, `doc_id:score`. Read about it in [Wikipedia](https://en.wikipedia.org/wiki/Okapi_BM25#The_ranking_function) and implement accordingly.\n",
        "\n",
        "Both methods accept `query` parameter in a form of a dictionary, `term:frequency`"
      ]
    },
    {
      "cell_type": "code",
      "execution_count": null,
      "metadata": {
        "id": "TCmmVrN49BjN"
      },
      "outputs": [],
      "source": [
        "from collections import Counter\n",
        "import math\n",
        "\n",
        "class QueryProcessing:\n",
        "    \n",
        "    @staticmethod\n",
        "    def prepare_query(raw_query):\n",
        "        prep = Preprocessor()\n",
        "        # pre-process query the same way as documents\n",
        "        query = prep.preprocess(raw_query)\n",
        "        # count frequency\n",
        "        return Counter(query)\n",
        "    \n",
        "    @staticmethod\n",
        "    def boolean_retrieval(query, index):\n",
        "        # retrieve a set of documents containing all query terms\n",
        "        \n",
        "        docs = []\n",
        "        for q in query.keys():\n",
        "          if q in index:\n",
        "            docs += [[doc_id for doc_id, _ in index[q][1:]]]\n",
        "\n",
        "        common_docs = set(docs[0])\n",
        "        for d in docs[1:]:\n",
        "          common_docs = common_docs.intersection(d)\n",
        "        return common_docs\n",
        "\n",
        "    @staticmethod\n",
        "    def okapi_scoring(query, doc_lengths, index, k1=1.2, b=0.75):\n",
        "        #TODO retrieve relevant documents with scores\n",
        "        \n",
        "        # TODO YOUR CODE HERE\n",
        "        \n",
        "        scores = {}\n",
        "        N = len(doc_lengths)\n",
        "        avgdl = sum(doc_lengths.values()) / float(len(doc_lengths))\n",
        "        for term in query.keys():\n",
        "            if term not in index:  # ignoring absent terms\n",
        "                continue\n",
        "            n_docs = len(index[term]) - 1\n",
        "            idf = math.log10((N - n_docs + 0.5) / (n_docs + 0.5))\n",
        "            postings = index[term][1:]\n",
        "            for posting in postings:\n",
        "                doc_id = posting[0]\n",
        "                doc_tf = posting[1]\n",
        "                score = idf * doc_tf * (k1 + 1) / (doc_tf + k1 * (1 - b + b * (doc_lengths[doc_id] / avgdl)))\n",
        "                if doc_id not in scores:\n",
        "                    scores[doc_id] = score\n",
        "                else:  # accumulate scores\n",
        "                    scores[doc_id] += score\n",
        "        return scores\n",
        "\n",
        "    # def okapi_scoring(query, doc_lengths, index, k1=1.2, b=0.75):\n",
        "    #     #TODO retrieve relevant documents with scores\n",
        "        \n",
        "    #     # TODO YOUR CODE HERE\n",
        "        \n",
        "    #     return {0: 0.32, 5: 1.17}\n",
        "\n"
      ]
    },
    {
      "cell_type": "markdown",
      "metadata": {
        "id": "EhaV1qn_9BjO"
      },
      "source": [
        "### Tests"
      ]
    },
    {
      "cell_type": "code",
      "execution_count": null,
      "metadata": {
        "id": "pxhL4FMY9BjO"
      },
      "outputs": [],
      "source": [
        "test_doc_lengths = {1: 20, 2: 15, 3: 10, 4:20, 5:30}\n",
        "test_index = {'x': [2, (1, 1), (2, 1)], 'y': [2, (1, 1), (3, 1)], 'z': [3, (2, 1), (4,2)]}\n",
        "\n",
        "\n",
        "test_query1 = QueryProcessing.prepare_query('x z')\n",
        "test_query2 = QueryProcessing.prepare_query('x y')\n",
        "\n",
        "\n",
        "assert QueryProcessing.boolean_retrieval(test_query1, test_index) == {2}\n",
        "assert QueryProcessing.boolean_retrieval(test_query2, test_index) == {1}\n",
        "okapi_res = QueryProcessing.okapi_scoring(test_query2, test_doc_lengths, test_index)\n",
        "assert all(k in okapi_res for k in (1, 2, 3))\n",
        "assert not any(k in okapi_res for k in (4, 5))\n",
        "assert okapi_res[1] > okapi_res[3] > okapi_res[2]"
      ]
    },
    {
      "cell_type": "markdown",
      "metadata": {
        "id": "iP7ZkGQ09BjO"
      },
      "source": [
        "### And now query the real index"
      ]
    },
    {
      "cell_type": "code",
      "execution_count": null,
      "metadata": {
        "id": "DJHL512Y9BjO",
        "outputId": "e09632c2-75cd-4987-89d0-36f847c96331",
        "colab": {
          "base_uri": "https://localhost:8080/"
        }
      },
      "outputs": [
        {
          "output_type": "stream",
          "name": "stdout",
          "text": [
            "russia ukraine\n",
            "\t https://www.reuters.com/sports/chinese-premier-urges-ioc-oppose-politicisation-sports-2023-05-08/\n",
            "\t https://www.reuters.com/breakingviews/joined-up-g7-is-best-china-deterrent-2023-05-08/\n",
            "\t https://www.reuters.com/podcasts/assad-cold-ukraines-religious-war-2023-05-08/\n",
            "\t https://www.reuters.com/world/europe/\n",
            "\t https://www.reuters.com/lifestyle/eurovision-2023-opens-with-acts-walking-liverpools-turquoise-carpet-2023-05-07/\n",
            "\t https://www.reuters.com/breakingviews/unicredits-ma-hunt-has-more-glitter-than-gold-2023-05-03/\n",
            "\t == Okapi Time: 0.00011 ==\n",
            "\t https://www.reuters.com/podcasts/assad-cold-ukraines-religious-war-2023-05-08/ 3.152651851710943\n",
            "\t https://www.reuters.com/world/europe/ 3.5764576972858277\n",
            "\t https://www.reuters.com/business/environment/ 1.3888763893719798\n",
            "\t https://www.reuters.com/lifestyle/eurovision-2023-opens-with-acts-walking-liverpools-turquoise-carpet-2023-05-07/ 2.510973798585008\n",
            "\t https://www.reuters.com/breakingviews/joined-up-g7-is-best-china-deterrent-2023-05-08/ 2.6486851279228194\n",
            "\t https://www.reuters.com/breakingviews/unicredits-ma-hunt-has-more-glitter-than-gold-2023-05-03/ 1.8192556827225497\n",
            "\t https://www.reuters.com/technology/siemens-sap-say-eu-draft-data-act-puts-trade-secrets-risk-2023-05-07/ 0.9486788206679017\n",
            "\t https://www.reuters.com/sports/chinese-premier-urges-ioc-oppose-politicisation-sports-2023-05-08/ 2.162584817486869\n",
            "\t https://www.reuters.com/world/us/ 0.8576058886008142\n",
            "\t https://www.reuters.com/world/top-biden-aide-discusses-yemen-peace-efforts-with-saudi-crown-prince-white-house-2023-05-08/ 0.831688376664302\n",
            "\t https://www.reuters.com/world/eu-israel-cancels-europe-day-event-over-far-right-ministers-participation-2023-05-08/ 0.8497818532556685\n",
            "\t https://www.reuters.com/breakingviews/global-markets-breakingviews-2023-05-05/ 0.6336623836637028\n",
            "\t https://www.reuters.com/sports/top-fighters-unwilling-put-legacy-line-paul-2023-05-08/ 0.8917092371771425\n",
            "\n",
            "Hong Kong\n",
            "\t https://www.reuters.com/sports/chinese-premier-urges-ioc-oppose-politicisation-sports-2023-05-08/\n",
            "\t https://www.reuters.com/markets/asia/\n",
            "\t https://www.reuters.com/legal/legalindustry/\n",
            "\t https://www.reuters.com/breakingviews/beijing-expects-foreigners-trust-not-verify-2023-05-05/\n",
            "\t https://www.reuters.com/breakingviews/how-vodafone-three-can-woo-competition-regulators-2023-05-04/\n",
            "\t https://www.reuters.com/breakingviews/its-time-hsbcs-top-owner-calms-down-or-sells-up-2023-05-04/\n",
            "\t https://www.reuters.com/breakingviews/chinese-tourists-return-with-lighter-wallets-2023-05-03/\n",
            "\t https://www.reuters.com/technology/alibaba-logistics-arm-eyes-up-2-billion-hong-kong-ipo-sources-2023-05-08/\n",
            "\t == Okapi Time: 0.00006 ==\n",
            "\t https://www.reuters.com/markets/asia/ 1.9193304817419308\n",
            "\t https://www.reuters.com/breakingviews/beijing-expects-foreigners-trust-not-verify-2023-05-05/ 3.1640085400493856\n",
            "\t https://www.reuters.com/breakingviews/how-vodafone-three-can-woo-competition-regulators-2023-05-04/ 1.9730950391794342\n",
            "\t https://www.reuters.com/breakingviews/its-time-hsbcs-top-owner-calms-down-or-sells-up-2023-05-04/ 3.280889405623655\n",
            "\t https://www.reuters.com/breakingviews/chinese-tourists-return-with-lighter-wallets-2023-05-03/ 2.4948868710830454\n",
            "\t https://www.reuters.com/legal/legalindustry/ 1.665227545344874\n",
            "\t https://www.reuters.com/technology/alibaba-logistics-arm-eyes-up-2-billion-hong-kong-ipo-sources-2023-05-08/ 3.8488948991723793\n",
            "\t https://www.reuters.com/sports/chinese-premier-urges-ioc-oppose-politicisation-sports-2023-05-08/ 3.5668215468315205\n",
            "\n",
            "crypto money\n",
            "\t https://www.reuters.com/legal/ftx-gets-approval-ledgerx-sale-asserts-39-bln-genesis-claim-2023-05-04/\n",
            "\t https://www.reuters.com/technology/liechtenstein-allow-payment-certain-state-services-bitcoin-handelsblatt-2023-05-08/\n",
            "\t == Okapi Time: 0.00008 ==\n",
            "\t https://www.reuters.com/technology/twitter-remove-inactive-accounts-2023-05-08/ 0.8556851600024366\n",
            "\t https://www.reuters.com/technology/crypto-stocks-fall-after-binance-halts-bitcoin-withdrawals-hours-2023-05-08/ 1.4974608090201937\n",
            "\t https://www.reuters.com/technology/binance-again-temporarily-closes-bitcoin-withdrawals-2023-05-08/ 1.2594138636743009\n",
            "\t https://www.reuters.com/technology/uber-rival-bolt-seeks-turn-profitable-next-year-ipo-2025-2023-05-08/ 0.7498117694410701\n",
            "\t https://www.reuters.com/breakingviews/crypto-silence-is-precious-genslers-sec-2023-05-05/ 0.7805906464219098\n",
            "\t https://www.reuters.com/legal/transactional/ 0.6299071296805145\n",
            "\t https://www.reuters.com/legal/ftx-gets-approval-ledgerx-sale-asserts-39-bln-genesis-claim-2023-05-04/ 2.276218796894628\n",
            "\t https://www.reuters.com/technology/siemens-sap-say-eu-draft-data-act-puts-trade-secrets-risk-2023-05-07/ 0.7427426094943171\n",
            "\t https://www.reuters.com/technology/liechtenstein-allow-payment-certain-state-services-bitcoin-handelsblatt-2023-05-08/ 1.521107904447552\n",
            "\t https://www.reuters.com/technology/alibaba-logistics-arm-eyes-up-2-billion-hong-kong-ipo-sources-2023-05-08/ 0.6950034620218536\n",
            "\t https://www.reuters.com/technology/apples-results-send-shares-surging-nine-month-high-2023-05-05/ 0.7889663687893854\n",
            "\t https://www.reuters.com/technology/meta-platforms-scoops-up-ai-networking-chip-team-graphcore-2023-05-05/ 0.6770838784965022\n",
            "\t https://www.reuters.com/technology/google-plans-make-search-more-personal-with-ai-chat-video-clips-wsj-2023-05-06/ 0.8400437349052616\n",
            "\t https://www.reuters.com/business/yellen-is-calling-ceos-personally-warn-us-debt-ceiling-sources-2023-05-08/ 0.5706797970535762\n",
            "\t https://www.reuters.com/business/environment/ 0.5981833691720737\n",
            "\t https://www.reuters.com/business/aerospace-defense/ 0.6215300805270861\n",
            "\t https://www.reuters.com/business/retail-consumer/ 0.59649233435188\n",
            "\t https://www.reuters.com/business/autos-transportation/ 0.5477185741765317\n",
            "\t https://www.reuters.com/markets/us/ 0.60331449539357\n",
            "\t https://www.reuters.com/breakingviews/joined-up-g7-is-best-china-deterrent-2023-05-08/ 0.44728644641343573\n",
            "\t https://www.reuters.com/breakingviews/fuddy-duddy-meta-has-kid-problem-2023-05-05/ 0.5498595603241665\n",
            "\t https://www.reuters.com/breakingviews/global-markets-breakingviews-2023-05-05/ 0.4416688937665992\n",
            "\t https://www.reuters.com/breakingviews/beijing-expects-foreigners-trust-not-verify-2023-05-05/ 0.49387463444250895\n",
            "\t https://www.reuters.com/breakingviews/how-vodafone-three-can-woo-competition-regulators-2023-05-04/ 0.5910619003178149\n",
            "\t https://www.reuters.com/breakingviews/novo-nordisks-chunky-valuation-risks-crash-diet-2023-05-04/ 0.5229449437280204\n",
            "\t https://www.reuters.com/breakingviews/eli-lillys-golden-ticket-is-regrettable-winner-2023-05-03/ 0.476315412709737\n",
            "\t https://www.reuters.com/breakingviews/bnp-only-partly-earns-title-europes-jpmorgan-2023-05-03/ 0.8078149047925974\n",
            "\t https://www.reuters.com/legal/government/ 0.5265335687046485\n",
            "\t https://www.reuters.com/business/charged/ 0.6072209825171785\n",
            "\t https://www.reuters.com/sports/iba-called-countries-withdraw-boxing-tournament-over-us-participation-2023-05-08/ 0.6374913987553613\n",
            "\n"
          ]
        }
      ],
      "source": [
        "import time\n",
        "\n",
        "queries = [\"russia ukraine\", \"Hong Kong\", \"crypto money\"]\n",
        "for q in queries:\n",
        "    print(q)\n",
        "    qobj = QueryProcessing.prepare_query(q)\n",
        "    for res in QueryProcessing.boolean_retrieval(qobj, indexer.index):\n",
        "        print('\\t', indexer.doc_urls[res])\n",
        "\n",
        "    s = time.time()\n",
        "    okapi_res = QueryProcessing.okapi_scoring(qobj, indexer.doc_lengths, indexer.index)\n",
        "    e = time.time()\n",
        "    print(f\"\\t == Okapi Time: {e - s:.5f} ==\")\n",
        "    for res in okapi_res:\n",
        "        print('\\t', indexer.doc_urls[res], okapi_res[res])\n",
        "    \n",
        "    print()"
      ]
    },
    {
      "cell_type": "code",
      "source": [],
      "metadata": {
        "id": "fylF4HNdDt5n"
      },
      "execution_count": null,
      "outputs": []
    }
  ],
  "metadata": {
    "kernelspec": {
      "display_name": "Python 3 (ipykernel)",
      "language": "python",
      "name": "python3"
    },
    "language_info": {
      "codemirror_mode": {
        "name": "ipython",
        "version": 3
      },
      "file_extension": ".py",
      "mimetype": "text/x-python",
      "name": "python",
      "nbconvert_exporter": "python",
      "pygments_lexer": "ipython3",
      "version": "3.9.7"
    },
    "colab": {
      "provenance": []
    }
  },
  "nbformat": 4,
  "nbformat_minor": 0
}