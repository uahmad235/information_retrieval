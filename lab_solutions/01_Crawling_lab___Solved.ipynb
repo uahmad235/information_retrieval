{
  "cells": [
    {
      "cell_type": "markdown",
      "id": "f70e56cb-00be-49e1-869a-deac83bac346",
      "metadata": {
        "id": "f70e56cb-00be-49e1-869a-deac83bac346"
      },
      "source": [
        "# Essential skill for the Internet crawling\n",
        "\n",
        "## Regular expressions\n",
        "\n",
        "Regular expressions (aka regex, regexp) are used to search for patterns. Machine-readable languages often have regualar structure (not always), or at least are non-ambiguous.\n",
        "\n",
        "Obvious way is, of course, to let machine parse the document and then process the result (as in the previous lab). But this often result in additinal depenencies and significant memory and time overhead (which is ok for a single document, but won't work for millions).\n",
        "\n",
        "### Simple examples"
      ]
    },
    {
      "cell_type": "code",
      "execution_count": null,
      "id": "1be93130-a7a5-4f2d-9172-1bccf1d87123",
      "metadata": {
        "colab": {
          "base_uri": "https://localhost:8080/"
        },
        "id": "1be93130-a7a5-4f2d-9172-1bccf1d87123",
        "outputId": "6902ad87-d6e8-4a49-b434-33381d5e3a4e"
      },
      "outputs": [
        {
          "output_type": "stream",
          "name": "stdout",
          "text": [
            "[A-Za-z0-9]+: ['we', 'have', 'only', '5', 'do11ars', 'This', 'amount', 'of', 'is', 'small', 'How', 'should', 'we', 'sur', 'vive']\n",
            "\n",
            "[A-Za-z0-9\\-]+: ['we', 'have', 'only', '5', 'do11ars', 'This', 'amount', 'of', 'is', 'small', 'How', 'should', 'we', 'sur-vive']\n",
            "\n",
            "[^\\w+]: [' ', ' ', ' ', ' ', '.', ' ', ' ', ' ', ' ', '$', ' ', ' ', '.', ' ', ' ', ' ', ' ', '-', '?']\n",
            "\n",
            "\\S+: ['we', 'have', 'only', '5', 'do11ars.', 'This', 'amount', 'of', '$', 'is', 'small.', 'How', 'should', 'we', 'sur-vive?']\n",
            "\n",
            "\\W+[a-z]+\\-[a-z]+.$: [' sur-vive?']\n"
          ]
        }
      ],
      "source": [
        "import re\n",
        "string = \"we have only 5 do11ars. This amount of $ is small. How should we sur-vive?\"\n",
        "\n",
        "# all alphanumerics\n",
        "pattern = r\"[A-Za-z0-9]+\"\n",
        "print(pattern, end=\": \")\n",
        "print(re.findall(pattern, string))\n",
        "print()\n",
        "\n",
        "# # all alphanumerics but also with hyphen\n",
        "pattern = r\"[A-Za-z0-9\\-]+\"\n",
        "print(pattern, end=\": \")\n",
        "print(re.findall(pattern, string))\n",
        "print()\n",
        "\n",
        "# the same but using explicit character enumeration\n",
        "# pattern = ...\n",
        "# print(pattern, end=\": \")\n",
        "# print(re.findall(pattern, string))\n",
        "# print()\n",
        "\n",
        "# any symbol\n",
        "pattern = \"[^\\w+]\"\n",
        "print(pattern, end=\": \")\n",
        "print(re.findall(pattern, string))\n",
        "print()\n",
        "\n",
        "# non-spaces, not the same as \\w!\n",
        "pattern = \"\\S+\"\n",
        "print(pattern, end=\": \")\n",
        "print(re.findall(pattern, string))\n",
        "print()\n",
        "\n",
        "\n",
        "# # discuss this pattern. Which elements are used here?\n",
        "pattern = \"\\W+[a-z]+\\-[a-z]+.$\"\n",
        "print(pattern, end=\": \")\n",
        "print(re.findall(pattern, string))"
      ]
    },
    {
      "cell_type": "markdown",
      "id": "cbd60467-c31a-4977-af18-a77862cf60aa",
      "metadata": {
        "id": "cbd60467-c31a-4977-af18-a77862cf60aa"
      },
      "source": [
        "### Find URLs/URIs vs parse the doc\n",
        "\n",
        "Instead of building DOM model and extracting `href` and `src` attributes, you may rely on the structure of the url itself. Extact all URLs from [the page](https://math.stackexchange.com/questions/411486/understanding-the-singular-value-decomposition-svd) with regexp. You major tool is [re.findall(...)](https://docs.python.org/3/library/re.html#). You may also be interested in compiled regular rexpression (if you reuse one)."
      ]
    },
    {
      "cell_type": "code",
      "execution_count": null,
      "id": "a6312c41-143c-4d38-af65-0ad9652caab7",
      "metadata": {
        "colab": {
          "base_uri": "https://localhost:8080/"
        },
        "id": "a6312c41-143c-4d38-af65-0ad9652caab7",
        "outputId": "09b0eaac-5e64-41e9-fcee-dc2d796cf692"
      },
      "outputs": [
        {
          "output_type": "stream",
          "name": "stdout",
          "text": [
            "\n",
            "(?:([A-Za-z]+):)?(\\/{0,3})([0-9.\\-A-Za-z]+)(?::(\\d+))?(?:\\/([^?#]*))?(?:\\?([^#]*))?(?:#(.*))?\n",
            "[('', '', 'DOCTYPE', '', '', '', ''), ('', '', 'html', '', '', '', ''), ('', '', 'html', '', '', '', ''), ('', '', 'itemscope', '', '', '', ''), ('', '', 'itemtype', '', '', '', ''), ('https', '//', 'schema.org', '', 'QAPage\" class=\"html__responsive \" lang=\"en\">\\r\\n\\r\\n    <head>\\r\\n\\r\\n        <title>linear algebra - Understanding the singular value decomposition (SVD) - Mathematics Stack Exchange</title>\\r\\n        <link rel=\"shortcut icon\" href=\"https://cdn.sstatic.net/Sites/math/Img/favicon.ico', 'v=92addaa54d18\">\\r\\n        <link rel=\"apple-touch-icon\" href=\"https://cdn.sstatic.net/Sites/math/Img/apple-touch-icon.png?v=0ae50baa40ed\">\\r\\n        <link rel=\"image_src\" href=\"https://cdn.sstatic.net/Sites/math/Img/apple-touch-icon.png?v=0ae50baa40ed\"> \\r\\n        <link rel=\"search\" type=\"application/opensearchdescription+xml\" title=\"Mathematics Stack Exchange\" href=\"/opensearch.xml\">\\r\\n        <link rel=\"canonical\" href=\"https://math.stackexchange.com/questions/411486/understanding-the-singular-value-decomposition-svd\" />\\r\\n    <meta name=\"viewport\" content=\"width=device-width, height=device-height, initial-scale=1.0, minimum-scale=1.0\">\\r\\n        <meta property=\"og:type\" content= \"website\" />\\r\\n        <meta property=\"og:url\" content=\"https://math.stackexchange.com/questions/411486/understanding-the-singular-value-decomposition-svd\"/>\\r\\n        <meta property=\"og:site_name\" content=\"Mathematics Stack Exchange\" />\\r\\n        <meta property=\"og:image\" itemprop=\"image primaryImageOfPage\" content=\"https://cdn.sstatic.net/Sites/math/Img/apple-touch-icon@2.png?v=4ec1df2e49b1\" />\\r\\n        <meta name=\"twitter:card\" content=\"summary\"/>\\r\\n        <meta name=\"twitter:domain\" content=\"math.stackexchange.com\"/>\\r\\n        <meta name=\"twitter:site\" content=\"@StackMath\" />\\r\\n        <meta name=\"twitter:creator\" content=\"@StackMath\" />\\r\\n        <meta name=\"twitter:title\" property=\"og:title\" itemprop=\"name\" content=\"Understanding the singular value decomposition (SVD)\" />\\r\\n        <meta name=\"twitter:description\" property=\"og:description\" itemprop=\"description\" content=\"Please, would someone be so kind and explain what exactly happens when Singular Value Decomposition is applied on a matrix? What are singular values, left singular, and right singular vectors? I know \" />\\r\\n    <script id=\"webpack-public-path\" type=\"text/uri-list\">https://cdn.sstatic.net/</script>\\r\\n    <script src=\"https://ajax.googleapis.com/ajax/libs/jquery/1.12.4/jquery.min.js\"></script>\\r\\n    <script defer src=\"https://cdn.sstatic.net/Js/third-party/npm/@stackoverflow/stacks/dist/js/stacks.min.js?v=9bc856be1b3a\"></script>\\r\\n    <script src=\"https://cdn.sstatic.net/Js/stub.en.js?v=cb2c416fc3c2\"></script>\\r\\n\\r\\n\\r\\n    <link rel=\"stylesheet\" type=\"text/css\" href=\"https://cdn.sstatic.net/Shared/stacks.css?v=cb9621e41d1f\">\\r\\n    <link rel=\"stylesheet\" type=\"text/css\" href=\"https://cdn.sstatic.net/Sites/math/primary.css?v=19cbc70ffa04\">\\r\\n\\r\\n\\r\\n    \\r\\n            <link rel=\"alternate\" type=\"application/atom+xml\" title=\"Feed for question &', 'x27;Understanding the singular value decomposition (SVD)&#x27;\" href=\"/feeds/question/411486\">\\r'), ('', '', 'meta', '', '', '', ''), ('', '', 'name', '', '', '', ''), ('twitter', '', 'app', '', '', '', ''), ('', '', 'country', '', '', '', '')]\n",
            "\n",
            "(www|http:|https:)+[^\\s]+[\\w]\n",
            "['https:', 'https:', 'https:', 'https:', 'https:', 'https:', 'https:', 'https:', 'https:', 'https:']\n",
            "\n",
            "https?:\\/\\/(www\\.)?[-a-zA-Z0-9@:%._\\+~#=]{1,256}\\.[a-zA-Z0-9()]{1,6}\b([-a-zA-Z0-9()@:%_\\+.~#?&//=]*)\n",
            "[]\n",
            "\n",
            "[-a-zA-Z0-9@:%._\\+~#=]{1,256}\\.[a-zA-Z0-9()]{1,6}\b([-a-zA-Z0-9()@:%_\\+.~#?&//=]*)?\n",
            "[]\n",
            "\n",
            "(https?:\\/\\/(?:www\\.|(?!www))[a-zA-Z0-9][a-zA-Z0-9-]+[a-zA-Z0-9]\\.[^\\s]{2,}|www\\.[a-zA-Z0-9][a-zA-Z0-9-]+[a-zA-Z0-9]\\.[^\\s]{2,}|https?:\\/\\/(?:www\\.|(?!www))[a-zA-Z0-9]+\\.[^\\s]{2,}|www\\.[a-zA-Z0-9]+\\.[^\\s]{2,})\n",
            "['https://schema.org/QAPage\"', 'https://cdn.sstatic.net/Sites/math/Img/favicon.ico?v=92addaa54d18\">', 'https://cdn.sstatic.net/Sites/math/Img/apple-touch-icon.png?v=0ae50baa40ed\">', 'https://cdn.sstatic.net/Sites/math/Img/apple-touch-icon.png?v=0ae50baa40ed\">', 'https://math.stackexchange.com/questions/411486/understanding-the-singular-value-decomposition-svd\"', 'https://math.stackexchange.com/questions/411486/understanding-the-singular-value-decomposition-svd\"/>', 'https://cdn.sstatic.net/Sites/math/Img/apple-touch-icon@2.png?v=4ec1df2e49b1\"', 'https://cdn.sstatic.net/</script>', 'https://ajax.googleapis.com/ajax/libs/jquery/1.12.4/jquery.min.js\"></script>', 'https://cdn.sstatic.net/Js/third-party/npm/@stackoverflow/stacks/dist/js/stacks.min.js?v=9bc856be1b3a\"></script>']\n",
            "\n",
            "(?!mailto:)(?:(?:http|https|ftp)://)(?:\\S+(?::\\S*)?@)?(?:(?:(?:[1-9]\\d?|1\\d\\d|2[01]\\d|22[0-3])(?:\\.(?:1?\\d{1,2}|2[0-4]\\d|25[0-5])){2}(?:\\.(?:[0-9]\\d?|1\\d\\d|2[0-4]\\d|25[0-4]))|(?:(?:[a-z\\u00a1-\\uffff0-9]+-?)*[a-z\\u00a1-\\uffff0-9]+)(?:\\.(?:[a-z\\u00a1-\\uffff0-9]+-?)*[a-z\\u00a1-\\uffff0-9]+)*(?:\\.(?:[a-z\\u00a1-\\uffff]{2,})))|localhost)(?::\\d{2,5})?(?:(/|\\?|#)[^\\s]*)?\n",
            "['/', '/', '/', '/', '/', '/', '?', '/', '/', '/']\n",
            "\n",
            "https?:\\/\\/(?:www\\.)?[-a-zA-Z0-9@:%._\\+~#=]{1,256}\\.[a-zA-Z0-9()]{1,6}\b(?:[-a-zA-Z0-9()@:%_\\+.~#?&\\/=]*)\n",
            "[]\n"
          ]
        }
      ],
      "source": [
        "import re\n",
        "import requests\n",
        "\n",
        "url = \"https://math.stackexchange.com/questions/\"\\\n",
        "        \"411486/understanding-the-singular-value-decomposition-svd\"\n",
        "\n",
        "text = requests.get(url).text\n",
        "\n",
        "# my inspiration - \n",
        "# I took some example URL regexp from the internet, \n",
        "# specifically from here:\n",
        "# https://stackoverflow.com/questions/3809401/what-is-a-good-regular-expression-to-match-a-url\n",
        "expressions = [\n",
        "    \"(?:([A-Za-z]+):)?(\\/{0,3})([0-9.\\-A-Za-z]+)(?::(\\d+))?(?:\\/([^?#]*))?(?:\\?([^#]*))?(?:#(.*))?\",\n",
        "    \"(www|http:|https:)+[^\\s]+[\\w]\",\n",
        "    \"https?:\\/\\/(www\\.)?[-a-zA-Z0-9@:%._\\+~#=]{1,256}\\.[a-zA-Z0-9()]{1,6}\\b([-a-zA-Z0-9()@:%_\\+.~#?&//=]*)\",\n",
        "    \"[-a-zA-Z0-9@:%._\\+~#=]{1,256}\\.[a-zA-Z0-9()]{1,6}\\b([-a-zA-Z0-9()@:%_\\+.~#?&//=]*)?\",\n",
        "    \"(https?:\\/\\/(?:www\\.|(?!www))[a-zA-Z0-9][a-zA-Z0-9-]+[a-zA-Z0-9]\\.[^\\s]{2,}|www\\.[a-zA-Z0-9][a-zA-Z0-9-]+[a-zA-Z0-9]\\.[^\\s]{2,}|https?:\\/\\/(?:www\\.|(?!www))[a-zA-Z0-9]+\\.[^\\s]{2,}|www\\.[a-zA-Z0-9]+\\.[^\\s]{2,})\",\n",
        "    \"(?!mailto:)(?:(?:http|https|ftp)://)(?:\\\\S+(?::\\\\S*)?@)?(?:(?:(?:[1-9]\\\\d?|1\\\\d\\\\d|2[01]\\\\d|22[0-3])(?:\\\\.(?:1?\\\\d{1,2}|2[0-4]\\\\d|25[0-5])){2}(?:\\\\.(?:[0-9]\\\\d?|1\\\\d\\\\d|2[0-4]\\\\d|25[0-4]))|(?:(?:[a-z\\\\u00a1-\\\\uffff0-9]+-?)*[a-z\\\\u00a1-\\\\uffff0-9]+)(?:\\\\.(?:[a-z\\\\u00a1-\\\\uffff0-9]+-?)*[a-z\\\\u00a1-\\\\uffff0-9]+)*(?:\\\\.(?:[a-z\\\\u00a1-\\\\uffff]{2,})))|localhost)(?::\\\\d{2,5})?(?:(/|\\\\?|#)[^\\\\s]*)?\",\n",
        "    \"https?:\\/\\/(?:www\\.)?[-a-zA-Z0-9@:%._\\+~#=]{1,256}\\.[a-zA-Z0-9()]{1,6}\\b(?:[-a-zA-Z0-9()@:%_\\+.~#?&\\/=]*)\",\n",
        "]\n",
        "\n",
        "for expression in expressions:\n",
        "    print()\n",
        "    pattern = re.compile(expression)\n",
        "    urls = pattern.findall(text)\n",
        "    print(expression)\n",
        "    print(urls[:10])"
      ]
    },
    {
      "cell_type": "markdown",
      "id": "63197434-4483-4d3c-ae0f-0dfb91f396b7",
      "metadata": {
        "id": "63197434-4483-4d3c-ae0f-0dfb91f396b7"
      },
      "source": [
        "Was this success? \n",
        "\n",
        "Compose your own minimalistic:"
      ]
    },
    {
      "cell_type": "code",
      "execution_count": null,
      "id": "d2055e8c-20d1-4cfe-9229-0f22a24183fb",
      "metadata": {
        "id": "d2055e8c-20d1-4cfe-9229-0f22a24183fb"
      },
      "outputs": [],
      "source": [
        "import re\n",
        "import requests\n",
        "\n",
        "url = \"https://math.stackexchange.com/questions/411486/understanding-the-singular-value-decomposition-svd\"\n",
        "\n",
        "text = requests.get(url).text\n",
        "\n",
        "def match_url_(text_):\n",
        "  protocol = \"https?://\"\n",
        "  domain = \"\\w+[\\.\\w+]?\\.\\w+\" # \"\\w+\\.\\w+?\\.\\w+\" # ((\\w+)\\.(.\\w+)?\\.(\\w+))\n",
        "  path = \"[/\\w\\-\\.]*\"\n",
        "  args =  \"[\\w\\/\\-\\.]+\"\n",
        "  hashtail = \"(?:#[\\w$%-_;]+)?\"\n",
        "\n",
        "  expression = protocol + domain + path + args + hashtail\n",
        "  pattern = re.compile(expression)\n",
        "  regexp_urls = pattern.findall(text_)\n",
        "  return regexp_urls\n",
        "  # print(regexp_urls[:20])\n",
        "# print(regexp_urls)\n",
        "# print(len(regexp_urls))"
      ]
    },
    {
      "cell_type": "code",
      "source": [
        "expression"
      ],
      "metadata": {
        "colab": {
          "base_uri": "https://localhost:8080/",
          "height": 36
        },
        "id": "mE11Xfvq5wbV",
        "outputId": "044b2470-8d3b-4287-e49d-8280b2237d10"
      },
      "id": "mE11Xfvq5wbV",
      "execution_count": null,
      "outputs": [
        {
          "output_type": "execute_result",
          "data": {
            "text/plain": [
              "'https?://(\\\\w+(.\\\\w+)?.(\\\\w+))[/\\\\w\\\\-\\\\.]*[\\\\w+](?:#[\\\\w$%-_;]+)?'"
            ],
            "application/vnd.google.colaboratory.intrinsic+json": {
              "type": "string"
            }
          },
          "metadata": {},
          "execution_count": 23
        }
      ]
    },
    {
      "cell_type": "markdown",
      "id": "d2174daf-3ea2-4622-89d2-751aed1e29b9",
      "metadata": {
        "id": "d2174daf-3ea2-4622-89d2-751aed1e29b9"
      },
      "source": [
        "# Streams and files\n",
        "\n",
        "When you deal with the big files you should take care about the RAM. Today 1GB won't suprise anyone on the desktop, but server machines, which implement crawlers, may be optimized for the resource.\n",
        "\n",
        "Using streams instead of RAM-cached files is a good strategy.\n",
        "\n",
        "- Look for solution here: https://stackoverflow.com/a/16696317\n",
        "- Look for the sample big file here: http://xcal1.vodafone.co.uk/\n",
        "- Read about python memory measurement here: https://pythonspeed.com/articles/measuring-memory-python/"
      ]
    },
    {
      "cell_type": "code",
      "execution_count": null,
      "id": "c819e5ad-2c3e-43b1-a45c-2c1db556e4d9",
      "metadata": {
        "id": "c819e5ad-2c3e-43b1-a45c-2c1db556e4d9"
      },
      "outputs": [],
      "source": [
        "import psutil, gc \n",
        "\n",
        "def get_mem():\n",
        "    return psutil.Process().memory_info().rss"
      ]
    },
    {
      "cell_type": "code",
      "execution_count": null,
      "id": "3d45cfdf-661e-47bb-a2c1-336b7d091a53",
      "metadata": {
        "id": "3d45cfdf-661e-47bb-a2c1-336b7d091a53"
      },
      "outputs": [],
      "source": [
        "large_file_url = \"http://212.183.159.230/100MB.zip\""
      ]
    },
    {
      "cell_type": "markdown",
      "id": "5c447d2f-383b-4d5e-ad83-67feab474dec",
      "metadata": {
        "id": "5c447d2f-383b-4d5e-ad83-67feab474dec"
      },
      "source": [
        "First, download the file as you would do it simple way:"
      ]
    },
    {
      "cell_type": "code",
      "execution_count": null,
      "id": "77d31dd2-b334-4d77-820e-ed78b81ad5c4",
      "metadata": {
        "colab": {
          "base_uri": "https://localhost:8080/"
        },
        "id": "77d31dd2-b334-4d77-820e-ed78b81ad5c4",
        "outputId": "60240691-951b-441d-edf1-1bdc32ce4c5b"
      },
      "outputs": [
        {
          "output_type": "stream",
          "name": "stdout",
          "text": [
            "Resident set size: 191582208\n",
            "Resident set size: 422694912\n",
            "Resident set size: 422694912\n",
            "Resident set size: 422694912\n"
          ]
        }
      ],
      "source": [
        "gc.collect()\n",
        "print(\"Resident set size:\", get_mem())\n",
        "data = requests.get(large_file_url).content\n",
        "print(\"Resident set size:\", get_mem())\n",
        "\n",
        "with open('100-RAM', 'wb') as f:\n",
        "    f.write(data)\n",
        "\n",
        "print(\"Resident set size:\", get_mem())\n",
        "data = None\n",
        "gc.collect()\n",
        "print(\"Resident set size:\", get_mem())"
      ]
    },
    {
      "cell_type": "markdown",
      "id": "05ad622c-6821-467d-8f9d-6269fed14097",
      "metadata": {
        "id": "05ad622c-6821-467d-8f9d-6269fed14097"
      },
      "source": [
        "And then use the streaming mode of the `requests` library."
      ]
    },
    {
      "cell_type": "code",
      "execution_count": null,
      "id": "0f20b4eb-a60c-4be1-910e-c029bdf4cb2c",
      "metadata": {
        "colab": {
          "base_uri": "https://localhost:8080/"
        },
        "id": "0f20b4eb-a60c-4be1-910e-c029bdf4cb2c",
        "outputId": "91c9a5f1-f250-4da6-98f0-5032a9dbe33b"
      },
      "outputs": [
        {
          "output_type": "stream",
          "name": "stdout",
          "text": [
            "Resident set size: 422694912\n",
            "Resident set size: 422752256\n"
          ]
        }
      ],
      "source": [
        "import requests\n",
        "import shutil\n",
        "\n",
        "def download_file(url, destination):\n",
        "    # NOTE the stream=True parameter below\n",
        "    with requests.get(url, stream=True) as r:\n",
        "        r.raise_for_status()\n",
        "        with open(destination, 'wb') as f:\n",
        "            for chunk in r.iter_content(chunk_size=8192):  #  \n",
        "                f.write(chunk)\n",
        "\n",
        "gc.collect()\n",
        "print(\"Resident set size:\", get_mem())\n",
        "download_file(large_file_url, \"100-stream\")\n",
        "print(\"Resident set size:\", get_mem())"
      ]
    },
    {
      "cell_type": "markdown",
      "id": "b02814d2-da81-40c6-baa2-a1453626df3a",
      "metadata": {
        "id": "b02814d2-da81-40c6-baa2-a1453626df3a"
      },
      "source": [
        "# BeautifulSoup\n",
        "\n",
        "Plain text HTML is a mixture of content, markup, and code. Extracting structure, or URLs, or plain text might be tricky with regular expressions. \n",
        "\n",
        "Building a DOM model is slow, but may save a lot of code and keep you from mistakes.\n",
        "\n",
        "## Extract all sentences\n",
        "For indexing and semantic analysis we use different granularity. Often sentence is a good choice. "
      ]
    },
    {
      "cell_type": "code",
      "source": [
        "import nltk\n",
        "nltk.download('punkt')"
      ],
      "metadata": {
        "colab": {
          "base_uri": "https://localhost:8080/"
        },
        "id": "sqiqmy0y_uxK",
        "outputId": "25c14b7f-3443-4bf3-ce0b-56fb579c0c67"
      },
      "id": "sqiqmy0y_uxK",
      "execution_count": null,
      "outputs": [
        {
          "output_type": "stream",
          "name": "stderr",
          "text": [
            "[nltk_data] Downloading package punkt to /root/nltk_data...\n",
            "[nltk_data]   Unzipping tokenizers/punkt.zip.\n"
          ]
        },
        {
          "output_type": "execute_result",
          "data": {
            "text/plain": [
              "True"
            ]
          },
          "metadata": {},
          "execution_count": 4
        }
      ]
    },
    {
      "cell_type": "code",
      "execution_count": null,
      "id": "186a793c-39ea-463d-8106-b719e4de3e33",
      "metadata": {
        "colab": {
          "base_uri": "https://localhost:8080/"
        },
        "id": "186a793c-39ea-463d-8106-b719e4de3e33",
        "outputId": "ababda85-b3b2-4820-f8e5-f1c2c052ef11"
      },
      "outputs": [
        {
          "output_type": "stream",
          "name": "stdout",
          "text": [
            "[\"Ideally we'd have a set of classes in the partials above that would correspond to\", '// the behaviours we want here in a more clear way.', '// sticky question-page hero at the bottom of the page on SO', \"$('.js-dismiss').on('click', function () {\", 'StackExchange.using(\"gps\", function () {', 'StackExchange.gps.track(\"hero.action\", { hero_action_type: \"close\", location: location }, true);', '});', 'StackExchange.Hero.dismiss();', '$(\".js-dismissable-hero\").fadeOut(\"fast\");', '});']\n"
          ]
        }
      ],
      "source": [
        "from bs4 import BeautifulSoup\n",
        "from bs4.element import Comment\n",
        "from nltk import tokenize\n",
        "import requests\n",
        "\n",
        "doc_url = \"https://math.stackexchange.com/questions/\"\\\n",
        "        \"411486/understanding-the-singular-value-decomposition-svd\"\n",
        "\n",
        "text = requests.get(doc_url).text\n",
        "dom = BeautifulSoup(text)\n",
        "paragraphs = [p.strip() for p in dom.text.split('\\n') if p.strip()]\n",
        "\n",
        "sents = []\n",
        "for p in paragraphs:\n",
        "  sents.extend(tokenize.sent_tokenize(p))\n",
        "    \n",
        "print(sents[90:100])"
      ]
    },
    {
      "cell_type": "markdown",
      "id": "8ead20dc-0608-4dde-a34a-3663692c9c6c",
      "metadata": {
        "id": "8ead20dc-0608-4dde-a34a-3663692c9c6c"
      },
      "source": [
        "# Extract URLs from nodes\n",
        "\n",
        "Be careful with relative links. How would you process them?"
      ]
    },
    {
      "cell_type": "code",
      "source": [
        "# soup = BeautifulSoup(sauce,'lxml')\n",
        "\n",
        "# section = soup.section\n",
        "\n",
        "# for url in section.find_all('a'):\n",
        "#     print parse.urljoin(web_url,url.get('href'))"
      ],
      "metadata": {
        "id": "ZO-0HqWWcgqj"
      },
      "id": "ZO-0HqWWcgqj",
      "execution_count": null,
      "outputs": []
    },
    {
      "cell_type": "code",
      "execution_count": null,
      "id": "33586e48-d334-4641-9d37-a24894026b86",
      "metadata": {
        "colab": {
          "base_uri": "https://localhost:8080/"
        },
        "id": "33586e48-d334-4641-9d37-a24894026b86",
        "outputId": "c6810667-395d-4c61-f63e-07872fd5af54"
      },
      "outputs": [
        {
          "output_type": "stream",
          "name": "stdout",
          "text": [
            "url:  /help\n",
            "new_url:  https://math.stackexchange.com/help\n",
            "url:  /tour\n",
            "new_url:  https://math.stackexchange.com/tour\n",
            "url:  /help\n",
            "new_url:  https://math.stackexchange.com/help\n",
            "url:  /users/signup?ssrc=hero&returnurl=https%3a%2f%2fmath.stackexchange.com%2fquestions%2f411486%2funderstanding-the-singular-value-decomposition-svd\n",
            "new_url:  https://math.stackexchange.com/users/signup?ssrc=hero&returnurl=https%3a%2f%2fmath.stackexchange.com%2fquestions%2f411486%2funderstanding-the-singular-value-decomposition-svd\n",
            "url:  /\n",
            "new_url:  https://math.stackexchange.com/\n",
            "url:  /questions\n",
            "new_url:  https://math.stackexchange.com/questions\n",
            "url:  /tags\n",
            "new_url:  https://math.stackexchange.com/tags\n",
            "url:  /users\n",
            "new_url:  https://math.stackexchange.com/users\n",
            "url:  /unanswered\n",
            "new_url:  https://math.stackexchange.com/unanswered\n",
            "url:  /questions/411486/understanding-the-singular-value-decomposition-svd\n",
            "new_url:  https://math.stackexchange.com/questions/411486/understanding-the-singular-value-decomposition-svd\n",
            "url:  /questions/ask\n",
            "new_url:  https://math.stackexchange.com/questions/ask\n",
            "url:  /posts/411486/timeline\n",
            "new_url:  https://math.stackexchange.com/posts/411486/timeline\n",
            "url:  /questions/tagged/linear-algebra\n",
            "new_url:  https://math.stackexchange.com/questions/tagged/linear-algebra\n",
            "url:  /questions/tagged/matrices\n",
            "new_url:  https://math.stackexchange.com/questions/tagged/matrices\n",
            "url:  /questions/tagged/matrix-decomposition\n",
            "new_url:  https://math.stackexchange.com/questions/tagged/matrix-decomposition\n",
            "url:  /questions/tagged/svd\n",
            "new_url:  https://math.stackexchange.com/questions/tagged/svd\n",
            "url:  /q/411486\n",
            "new_url:  https://math.stackexchange.com/q/411486\n",
            "url:  /posts/411486/revisions\n",
            "new_url:  https://math.stackexchange.com/posts/411486/revisions\n",
            "url:  /users/339790/rodrigo-de-azevedo\n",
            "new_url:  https://math.stackexchange.com/users/339790/rodrigo-de-azevedo\n",
            "url:  /users/339790/rodrigo-de-azevedo\n",
            "new_url:  https://math.stackexchange.com/users/339790/rodrigo-de-azevedo\n",
            "url:  /users/81007/celdor\n",
            "new_url:  https://math.stackexchange.com/users/81007/celdor\n",
            "url:  /users/81007/celdor\n",
            "new_url:  https://math.stackexchange.com/users/81007/celdor\n",
            "url:  /users/38053/julien\n",
            "new_url:  https://math.stackexchange.com/users/38053/julien\n",
            "url:  /users/81007/celdor\n",
            "new_url:  https://math.stackexchange.com/users/81007/celdor\n",
            "url:  /users/35472/mhenni-benghorbal\n",
            "new_url:  https://math.stackexchange.com/users/35472/mhenni-benghorbal\n",
            "url:  /users/32967/kjetil-b-halvorsen\n",
            "new_url:  https://math.stackexchange.com/users/32967/kjetil-b-halvorsen\n",
            "url:  /users/40119/littleo\n",
            "new_url:  https://math.stackexchange.com/users/40119/littleo\n",
            "url:  /questions/411486/understanding-the-singular-value-decomposition-svd?answertab=scoredesc#tab-top\n",
            "new_url:  https://math.stackexchange.com/questions/411486/understanding-the-singular-value-decomposition-svd?answertab=scoredesc#tab-top\n",
            "url:  /posts/476863/timeline\n",
            "new_url:  https://math.stackexchange.com/posts/476863/timeline\n",
            "url:  /a/476863\n",
            "new_url:  https://math.stackexchange.com/a/476863\n",
            "url:  /users/30953/ittay-weiss\n",
            "new_url:  https://math.stackexchange.com/users/30953/ittay-weiss\n",
            "url:  /users/30953/ittay-weiss\n",
            "new_url:  https://math.stackexchange.com/users/30953/ittay-weiss\n",
            "url:  /users/81007/celdor\n",
            "new_url:  https://math.stackexchange.com/users/81007/celdor\n",
            "url:  /posts/3242024/timeline\n",
            "new_url:  https://math.stackexchange.com/posts/3242024/timeline\n",
            "url:  /a/3242024\n",
            "new_url:  https://math.stackexchange.com/a/3242024\n",
            "url:  /posts/3242024/revisions\n",
            "new_url:  https://math.stackexchange.com/posts/3242024/revisions\n",
            "url:  /users/581561/tomasz-bartkowiak\n",
            "new_url:  https://math.stackexchange.com/users/581561/tomasz-bartkowiak\n",
            "url:  /users/581561/tomasz-bartkowiak\n",
            "new_url:  https://math.stackexchange.com/users/581561/tomasz-bartkowiak\n",
            "url:  /posts/3456462/timeline\n",
            "new_url:  https://math.stackexchange.com/posts/3456462/timeline\n",
            "url:  /a/3456462\n",
            "new_url:  https://math.stackexchange.com/a/3456462\n",
            "url:  /users/711371/bart-vanderbeke\n",
            "new_url:  https://math.stackexchange.com/users/711371/bart-vanderbeke\n",
            "url:  /users/711371/bart-vanderbeke\n",
            "new_url:  https://math.stackexchange.com/users/711371/bart-vanderbeke\n",
            "url:  /posts/3456431/timeline\n",
            "new_url:  https://math.stackexchange.com/posts/3456431/timeline\n",
            "url:  /a/3456431\n",
            "new_url:  https://math.stackexchange.com/a/3456431\n",
            "url:  /users/711371/bart-vanderbeke\n",
            "new_url:  https://math.stackexchange.com/users/711371/bart-vanderbeke\n",
            "url:  /users/711371/bart-vanderbeke\n",
            "new_url:  https://math.stackexchange.com/users/711371/bart-vanderbeke\n",
            "url:  /posts/1773189/timeline\n",
            "new_url:  https://math.stackexchange.com/posts/1773189/timeline\n",
            "url:  /a/1773189\n",
            "new_url:  https://math.stackexchange.com/a/1773189\n",
            "url:  /users/337175/hgfei\n",
            "new_url:  https://math.stackexchange.com/users/337175/hgfei\n",
            "url:  /users/337175/hgfei\n",
            "new_url:  https://math.stackexchange.com/users/337175/hgfei\n",
            "url:  /posts/476874/timeline\n",
            "new_url:  https://math.stackexchange.com/posts/476874/timeline\n",
            "url:  /a/476874\n",
            "new_url:  https://math.stackexchange.com/a/476874\n",
            "url:  /users/40119/littleo\n",
            "new_url:  https://math.stackexchange.com/users/40119/littleo\n",
            "url:  /users/40119/littleo\n",
            "new_url:  https://math.stackexchange.com/users/40119/littleo\n",
            "url:  /posts/3283853/timeline\n",
            "new_url:  https://math.stackexchange.com/posts/3283853/timeline\n",
            "url:  /a/3283853\n",
            "new_url:  https://math.stackexchange.com/a/3283853\n",
            "url:  /users/571804/theshetty-paradise\n",
            "new_url:  https://math.stackexchange.com/users/571804/theshetty-paradise\n",
            "url:  /users/571804/theshetty-paradise\n",
            "new_url:  https://math.stackexchange.com/users/571804/theshetty-paradise\n",
            "url:  /users/login?ssrc=question_page&returnurl=https%3a%2f%2fmath.stackexchange.com%2fquestions%2f411486\n",
            "new_url:  https://math.stackexchange.com/users/login?ssrc=question_page&returnurl=https%3a%2f%2fmath.stackexchange.com%2fquestions%2f411486\n",
            "url:  /questions/tagged/linear-algebra\n",
            "new_url:  https://math.stackexchange.com/questions/tagged/linear-algebra\n",
            "url:  /questions/tagged/matrices\n",
            "new_url:  https://math.stackexchange.com/questions/tagged/matrices\n",
            "url:  /questions/tagged/matrix-decomposition\n",
            "new_url:  https://math.stackexchange.com/questions/tagged/matrix-decomposition\n",
            "url:  /questions/tagged/svd\n",
            "new_url:  https://math.stackexchange.com/questions/tagged/svd\n",
            "url:  /q/173601\n",
            "new_url:  https://math.stackexchange.com/q/173601\n",
            "url:  /questions/173601/a-number-of-svd-components-understanding-the-relation?noredirect=1\n",
            "new_url:  https://math.stackexchange.com/questions/173601/a-number-of-svd-components-understanding-the-relation?noredirect=1\n",
            "url:  /q/3752209\n",
            "new_url:  https://math.stackexchange.com/q/3752209\n",
            "url:  /questions/3752209/how-to-rearrange-the-singular-value-decomposition-svd?noredirect=1\n",
            "new_url:  https://math.stackexchange.com/questions/3752209/how-to-rearrange-the-singular-value-decomposition-svd?noredirect=1\n",
            "url:  /q/2638508\n",
            "new_url:  https://math.stackexchange.com/q/2638508\n",
            "url:  /questions/2638508/intuitive-explanation-of-the-singular-values?noredirect=1\n",
            "new_url:  https://math.stackexchange.com/questions/2638508/intuitive-explanation-of-the-singular-values?noredirect=1\n",
            "url:  /q/704238\n",
            "new_url:  https://math.stackexchange.com/q/704238\n",
            "url:  /questions/704238/singular-value-decomposition-of-rank-1-matrix\n",
            "new_url:  https://math.stackexchange.com/questions/704238/singular-value-decomposition-of-rank-1-matrix\n",
            "url:  /q/816884\n",
            "new_url:  https://math.stackexchange.com/q/816884\n",
            "url:  /questions/816884/relationship-between-the-singular-value-decomposition-svd-and-the-principal-co\n",
            "new_url:  https://math.stackexchange.com/questions/816884/relationship-between-the-singular-value-decomposition-svd-and-the-principal-co\n",
            "url:  /q/3842663\n",
            "new_url:  https://math.stackexchange.com/q/3842663\n",
            "url:  /questions/3842663/using-the-singular-value-decomposition-for-calculating-eigenvalues-and-eigenvect\n",
            "new_url:  https://math.stackexchange.com/questions/3842663/using-the-singular-value-decomposition-for-calculating-eigenvalues-and-eigenvect\n",
            "url:  /q/3982996\n",
            "new_url:  https://math.stackexchange.com/q/3982996\n",
            "url:  /questions/3982996/singular-value-decomposition-for-unitary-matrices\n",
            "new_url:  https://math.stackexchange.com/questions/3982996/singular-value-decomposition-for-unitary-matrices\n",
            "url:  /q/4315564\n",
            "new_url:  https://math.stackexchange.com/q/4315564\n",
            "url:  /questions/4315564/singular-value-decomposition-of-symmetric-matrix\n",
            "new_url:  https://math.stackexchange.com/questions/4315564/singular-value-decomposition-of-symmetric-matrix\n",
            "url:  /feeds/question/411486\n",
            "new_url:  https://math.stackexchange.com/feeds/question/411486\n",
            "url:  /\n",
            "new_url:  https://math.stackexchange.com/\n",
            "url:  /tour\n",
            "new_url:  https://math.stackexchange.com/tour\n",
            "url:  /help\n",
            "new_url:  https://math.stackexchange.com/help\n",
            "url:  /contact\n",
            "new_url:  https://math.stackexchange.com/contact\n",
            "63\n"
          ]
        },
        {
          "output_type": "execute_result",
          "data": {
            "text/plain": [
              "['https://math.stackexchange.com/users/35472/mhenni-benghorbal',\n",
              " 'https://math.stackexchange.com/posts/411486/revisions',\n",
              " 'https://math.stackexchange.com/users/32967/kjetil-b-halvorsen',\n",
              " 'https://math.stackexchange.com/questions/411486/understanding-the-singular-value-decomposition-svd',\n",
              " 'https://math.stackexchange.com/posts/3283853/timeline',\n",
              " 'https://math.stackexchange.com/users/login?ssrc=question_page&returnurl=https%3a%2f%2fmath.stackexchange.com%2fquestions%2f411486',\n",
              " 'https://math.stackexchange.com/questions/3982996/singular-value-decomposition-for-unitary-matrices',\n",
              " 'https://math.stackexchange.com/a/3456462',\n",
              " 'https://math.stackexchange.com/questions/tagged/svd',\n",
              " 'https://math.stackexchange.com/posts/3456462/timeline',\n",
              " 'https://math.stackexchange.com/contact',\n",
              " 'https://math.stackexchange.com/q/3752209',\n",
              " 'https://math.stackexchange.com/questions/ask',\n",
              " 'https://math.stackexchange.com/users/711371/bart-vanderbeke',\n",
              " 'https://math.stackexchange.com/q/704238',\n",
              " 'https://math.stackexchange.com/users/81007/celdor',\n",
              " 'https://math.stackexchange.com/posts/411486/timeline',\n",
              " 'https://math.stackexchange.com/help',\n",
              " 'https://math.stackexchange.com/a/476874',\n",
              " 'https://math.stackexchange.com/posts/3242024/timeline',\n",
              " 'https://math.stackexchange.com/q/173601',\n",
              " 'https://math.stackexchange.com/questions/3842663/using-the-singular-value-decomposition-for-calculating-eigenvalues-and-eigenvect',\n",
              " 'https://math.stackexchange.com/users/signup?ssrc=hero&returnurl=https%3a%2f%2fmath.stackexchange.com%2fquestions%2f411486%2funderstanding-the-singular-value-decomposition-svd',\n",
              " 'https://math.stackexchange.com/questions/4315564/singular-value-decomposition-of-symmetric-matrix',\n",
              " 'https://math.stackexchange.com/posts/1773189/timeline',\n",
              " 'https://math.stackexchange.com/users',\n",
              " 'https://math.stackexchange.com/questions/816884/relationship-between-the-singular-value-decomposition-svd-and-the-principal-co',\n",
              " 'https://math.stackexchange.com/tags',\n",
              " 'https://math.stackexchange.com/questions/411486/understanding-the-singular-value-decomposition-svd?answertab=scoredesc#tab-top',\n",
              " 'https://math.stackexchange.com/questions/tagged/matrices',\n",
              " 'https://math.stackexchange.com/q/3842663',\n",
              " 'https://math.stackexchange.com/users/30953/ittay-weiss',\n",
              " 'https://math.stackexchange.com/users/571804/theshetty-paradise',\n",
              " 'https://math.stackexchange.com/feeds/question/411486',\n",
              " 'https://math.stackexchange.com/',\n",
              " 'https://math.stackexchange.com/unanswered',\n",
              " 'https://math.stackexchange.com/posts/3456431/timeline',\n",
              " 'https://math.stackexchange.com/users/339790/rodrigo-de-azevedo',\n",
              " 'https://math.stackexchange.com/q/2638508',\n",
              " 'https://math.stackexchange.com/a/1773189',\n",
              " 'https://math.stackexchange.com/a/3456431',\n",
              " 'https://math.stackexchange.com/q/411486',\n",
              " 'https://math.stackexchange.com/questions/3752209/how-to-rearrange-the-singular-value-decomposition-svd?noredirect=1',\n",
              " 'https://math.stackexchange.com/questions/704238/singular-value-decomposition-of-rank-1-matrix',\n",
              " 'https://math.stackexchange.com/posts/476863/timeline',\n",
              " 'https://math.stackexchange.com/questions',\n",
              " 'https://math.stackexchange.com/users/38053/julien',\n",
              " 'https://math.stackexchange.com/q/4315564',\n",
              " 'https://math.stackexchange.com/q/816884',\n",
              " 'https://math.stackexchange.com/questions/173601/a-number-of-svd-components-understanding-the-relation?noredirect=1',\n",
              " 'https://math.stackexchange.com/users/40119/littleo',\n",
              " 'https://math.stackexchange.com/tour',\n",
              " 'https://math.stackexchange.com/questions/tagged/linear-algebra',\n",
              " 'https://math.stackexchange.com/questions/tagged/matrix-decomposition',\n",
              " 'https://math.stackexchange.com/posts/3242024/revisions',\n",
              " 'https://math.stackexchange.com/users/337175/hgfei',\n",
              " 'https://math.stackexchange.com/q/3982996',\n",
              " 'https://math.stackexchange.com/posts/476874/timeline',\n",
              " 'https://math.stackexchange.com/a/476863',\n",
              " 'https://math.stackexchange.com/questions/2638508/intuitive-explanation-of-the-singular-values?noredirect=1',\n",
              " 'https://math.stackexchange.com/a/3283853',\n",
              " 'https://math.stackexchange.com/a/3242024',\n",
              " 'https://math.stackexchange.com/users/581561/tomasz-bartkowiak']"
            ]
          },
          "metadata": {},
          "execution_count": 18
        }
      ],
      "source": [
        "import urllib.parse\n",
        "from urllib.parse import urljoin\n",
        "\n",
        "all_hrefs = dom.find_all('a', href=True)\n",
        "all_urls = set()\n",
        "\n",
        "# for a in all_hrefs:\n",
        "#     # if a['href'].startswith('http'):   # or a['href'].startswith('/'):\n",
        "#     url = a['href']\n",
        "#     url_new = urllib.parse.urljoin(doc_url, url) if url.startswith('/') else url\n",
        "\n",
        "#     # d = urljoin(url_new, a.get('href'))\n",
        "#     all_urls.add(url_new)\n",
        "\n",
        "for a in all_hrefs:\n",
        "    url = a['href']\n",
        "    if url.startswith('/'):\n",
        "      print(\"url: \", url)\n",
        "      url_new = urllib.parse.urljoin(doc_url, url)\n",
        "      print(\"new_url: \", url_new)\n",
        "      all_urls.add(url_new)\n",
        "\n",
        "all_urls = list(all_urls)\n",
        "print(len(all_urls))\n",
        "all_urls"
      ]
    },
    {
      "cell_type": "markdown",
      "id": "f9951d22-ec99-4d13-ad47-38d35d388827",
      "metadata": {
        "id": "f9951d22-ec99-4d13-ad47-38d35d388827"
      },
      "source": [
        "Discuss the next result:"
      ]
    },
    {
      "cell_type": "code",
      "execution_count": null,
      "id": "ec65f900-3a74-4664-8b38-301f7c292649",
      "metadata": {
        "id": "ec65f900-3a74-4664-8b38-301f7c292649",
        "outputId": "9425a3bb-c444-48f6-b3af-2117cf736fdd"
      },
      "outputs": [
        {
          "name": "stdout",
          "output_type": "stream",
          "text": [
            "|DOM ∩ REGX| = 50\n",
            "|DOM \\ REGX| = 90\n",
            "|REGX \\ DOM| = 71\n"
          ]
        }
      ],
      "source": [
        "print(\"|DOM ∩ REGX| =\", len(set(all_urls) & set(regexp_urls)))\n",
        "print(\"|DOM \\ REGX| =\", len(set(all_urls) - set(regexp_urls)))\n",
        "print(\"|REGX \\ DOM| =\", len(set(regexp_urls) - set(all_urls)))"
      ]
    },
    {
      "cell_type": "markdown",
      "id": "9a6bb8ed-9a9b-44db-bb97-9ef6cfe69b97",
      "metadata": {
        "id": "9a6bb8ed-9a9b-44db-bb97-9ef6cfe69b97"
      },
      "source": [
        "# Unique file name\n",
        "\n",
        "Please, never try to convert a domain (`google.com`), or a path component (`/index.php`) into a filename. They are not unique!\n",
        "\n",
        "Also, better not to try to substitute sensitive symbols of the full URL (`/:`...) -- you will definitely forget one. Also, you may easily overflow file name.\n",
        "\n",
        "Nice way is to use hash strings with fixed length and character set. Compute hash strings from the previous list."
      ]
    },
    {
      "cell_type": "code",
      "execution_count": null,
      "id": "83ab186e-d4e0-4612-a4f4-be7eadae4d47",
      "metadata": {
        "colab": {
          "base_uri": "https://localhost:8080/"
        },
        "id": "83ab186e-d4e0-4612-a4f4-be7eadae4d47",
        "outputId": "c4277716-b5e6-4d5b-9ddd-d72ece6250ef"
      },
      "outputs": [
        {
          "output_type": "stream",
          "name": "stdout",
          "text": [
            "ee62d06f5464f5c4743f6db04629444c4363645e58c4ec040081480e0d41257f https://stackov...l/cookie-policy\n",
            "2aae7941d209a646f1d9ba9ac34f58e660adc5a5e0cee5c653e777fa0840d694 https://try.sta...utm_content=cta\n",
            "6473e072e08c1510b55d59e1cf6a9655add26912a016c32ce119385c322a2961 https://mathema...iven-two-points\n",
            "5915d46a7d4513114e01e4aa9374873419437090baf75de6b97dfeaeefa4a542 https://bicycle...h-in-the-center\n",
            "6f60e0febf52ead78634f96d36f4ef92eecf6e8408601a1bda06039d750e2f63 https://stackov...ackoverflow.com\n",
            "dd004401626fcbb419d7774d6b728c6a0ad4f41c0d26dfdd49c4260300d5d024 https://twitter...m/stackoverflow\n",
            "5364df2ac61dc8c32790071dabfa4aac46324c9d03291b38ee824826e2c04ab9 https://stackov...flow.blog?blb=1\n",
            "a0a5e085d23ac5eddc4c2399f7ba06c87f9a024ab9428b76042e024314ef33d6 https://ell.sta...-talks-as-if-he\n",
            "6c588b7c10e40b188be6061ed7d9307e68a25e2bb050d23af16279724ad426df https://physics...ld-able-to-move\n",
            "907f1a66da444e9f511881e242aa45743da3c9b622e99a4a4c266c1979b6d411 https://stackov...rflow.com/legal\n",
            "c64f4b3f59a49762553b20c70673f917b804bd57191f742fc36f068473dc5c22 https://stackex...hange.com/sites\n",
            "2489387a93ead5fc2b5a7d19d9c7379ce571642270f537e85645350b3723550c https://academi...ific-misconduct\n",
            "a5cc359892fa656ce65a1c7c20ac57afa4c692a7d8de3b3d7d3990d2185baabf https://math.st...change.com/help\n",
            "417d1bfb8e4d10b2209e542f3b7832336ee4e899aa324e5618f7204c8cbc8945 https://meta.st...y-update-colors\n",
            "cc1a43108e4075a050cd0041a7005038619f9aa4de7f2049f827b851c56461e7 https://i.stack...r.com/ySv7S.png\n",
            "da553583ff2cb3f206e7deaa6ffaaf86b33f4015ec6644931892afdc8969f339 https://www.hea...FM_figures.html\n",
            "f31d6f466a93f17ac0a8a7f52b582a2e72bf1e00da13305044ed0f8d2fbf4b5d https://worldbu...get-rid-of-them\n",
            "ef735c32cfd1d491e50184f7934a043138eaeaa0d4d3f702f49f3c1140048e30 https://stackov...rflow.co/talent\n",
            "1bc54789c00238541143d11c7f3ecf49b2a6556400773678edc787afbe354062 https://stackov....co/collectives\n",
            "cb5242f8fbab75c1e9ede038dac65c2431981bc80f2ee6018ef1a231ef0edb8d https://math.st...composition-svd\n"
          ]
        }
      ],
      "source": [
        "import hashlib\n",
        "for url in all_urls[:20]:\n",
        "    s = hashlib.sha256(url.encode()).hexdigest()\n",
        "    print(s, url[:15] + \"...\" + url[-15:])"
      ]
    },
    {
      "cell_type": "code",
      "source": [],
      "metadata": {
        "id": "tY85W36GE9g9"
      },
      "id": "tY85W36GE9g9",
      "execution_count": null,
      "outputs": []
    }
  ],
  "metadata": {
    "kernelspec": {
      "display_name": "Python 3 (ipykernel)",
      "language": "python",
      "name": "python3"
    },
    "language_info": {
      "codemirror_mode": {
        "name": "ipython",
        "version": 3
      },
      "file_extension": ".py",
      "mimetype": "text/x-python",
      "name": "python",
      "nbconvert_exporter": "python",
      "pygments_lexer": "ipython3",
      "version": "3.8.8"
    },
    "colab": {
      "provenance": []
    }
  },
  "nbformat": 4,
  "nbformat_minor": 5
}