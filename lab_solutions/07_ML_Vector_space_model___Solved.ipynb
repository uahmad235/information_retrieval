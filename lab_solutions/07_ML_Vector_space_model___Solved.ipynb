{
  "cells": [
    {
      "cell_type": "markdown",
      "metadata": {
        "id": "z7iPGINtGALE"
      },
      "source": [
        "# Vector space with ML\n",
        "\n",
        "This lab will be devoted to the use of ML model for the needs of information retrieval and text classification.  \n",
        "\n",
        "**Searching in the curious facts database**\n",
        "\n",
        "The facts dataset is given [here](https://raw.githubusercontent.com/IUCVLab/information-retrieval/main/datasets/facts.txt), take a look. We want you to retrieve facts **relevant to the query** (whatever it means), for example, you type \"good mood\", and get to know that Cherophobia is the fear of fun. For this, the idea is to utilize document vectors. However, instead of forming vectors with tf-idf and reducing dimensions, this time we want to obtain fixed-size vectors for documents using ML model."
      ]
    },
    {
      "cell_type": "markdown",
      "metadata": {
        "id": "TcqyCaSXGALG"
      },
      "source": [
        "## 1. Use neural networks to embed sentences\n",
        "\n",
        "Make use of any, starting from doc2vec up to Transformers, etc. Provide all code, dependencies, installation requirements.\n",
        "\n",
        "\n",
        "- [UCE in spacy 2](https://spacy.io/universe/project/spacy-universal-sentence-encoder) (`!pip install spacy-universal-sentence-encoder`)\n",
        "- [Sentence BERT in spacy 2](https://spacy.io/universe/project/spacy-sentence-bert) (`!pip install spacy-sentence-bert`)\n",
        "- [Pretrained 🤗 Transformers](https://huggingface.co/transformers/pretrained_models.html)\n",
        "- [Spacy 3 transformers](https://spacy.io/usage/embeddings-transformers#transformers-installation)\n",
        "- [doc2vec pretrained](https://github.com/jhlau/doc2vec)\n",
        "- [Some more sentence transformers](https://www.sbert.net/docs/quickstart.html)\n",
        "- [Even fasttext can do a sentence embedding](https://fasttext.cc/docs/en/python-module.html#model-object)\n",
        "\n",
        "Here should be dependency installation, download instructions and so on. With outputs."
      ]
    },
    {
      "cell_type": "code",
      "execution_count": null,
      "metadata": {
        "id": "_ckU89UjGALH"
      },
      "outputs": [],
      "source": [
        "!pip install #"
      ]
    },
    {
      "cell_type": "markdown",
      "metadata": {
        "id": "QEKccrE3GALI"
      },
      "source": [
        "And then use the library to download (and load) the model.\n",
        "\n",
        "NB: model downloading may take time (depending on the model hosting). If you think it may take a long time, ask your TA for assistance with binaries."
      ]
    },
    {
      "cell_type": "code",
      "execution_count": null,
      "metadata": {
        "scrolled": true,
        "id": "Ag_XSCfUGALI"
      },
      "outputs": [],
      "source": [
        "import tensorflow_hub as hub\n",
        "\n",
        "embed_tf_model = hub.load(\"https://tfhub.dev/google/universal-sentence-encoder-large/5\")"
      ]
    },
    {
      "cell_type": "markdown",
      "metadata": {
        "id": "9waJ_VY7GALI"
      },
      "source": [
        "## 2. Write a function that prepares embedding of arbitrary queries\n",
        "\n",
        "Write a function, which returns a fixed-sized vector of embedding."
      ]
    },
    {
      "cell_type": "code",
      "execution_count": null,
      "metadata": {
        "id": "tATOT9d-GALJ"
      },
      "outputs": [],
      "source": [
        "def embed(text):\n",
        "    # TODO your code here\n",
        "    return embed_tf_model([text]).numpy().flatten()\n",
        "    "
      ]
    },
    {
      "cell_type": "markdown",
      "metadata": {
        "id": "EHKEaGHFGALJ"
      },
      "source": [
        "Here we check that embeddings are of the same size and type."
      ]
    },
    {
      "cell_type": "code",
      "execution_count": null,
      "metadata": {
        "id": "sIJd1FcRGALJ"
      },
      "outputs": [],
      "source": [
        "assert embed(\n",
        "            \"Some random text\"\n",
        "        ).shape == \\\n",
        "        embed(\n",
        "            \"Folks, here's a story about Minnie the Moocher. \"\n",
        "            \"She was a lowdown hoochie coocher. \"\n",
        "            \"She was the roughest, toughest frail, \"\n",
        "            \"but Minnie had a heart as big as a whale\"\n",
        "        ).shape, \"Shape should match\""
      ]
    },
    {
      "cell_type": "code",
      "source": [
        "# embed(\"some text for testing\").numpy()"
      ],
      "metadata": {
        "id": "pL3_If0pHmbh"
      },
      "execution_count": null,
      "outputs": []
    },
    {
      "cell_type": "markdown",
      "metadata": {
        "id": "nsWRPYvdGALJ"
      },
      "source": [
        "NB: here we check DISTANCE, not similarity. This similar texts should produce results close to 0."
      ]
    },
    {
      "cell_type": "code",
      "execution_count": null,
      "metadata": {
        "id": "44FBdyGDGALJ"
      },
      "outputs": [],
      "source": [
        "from scipy.spatial.distance import cosine\n",
        "\n",
        "assert abs(cosine(\n",
        "            embed(\"some text for testing\"), \n",
        "            embed(\"some text for testing\")\n",
        "        )) < 1e-4, \"Embedding should match\"\n",
        "\n",
        "assert abs(cosine(\n",
        "            embed(\"Cats eat mice.\"), \n",
        "            embed(\"Terminator is an autonomous cyborg, typically humanoid, originally conceived as a virtually indestructible soldier, infiltrator, and assassin.\")\n",
        "        )) > 0.2, \"Embeddings should be far\""
      ]
    },
    {
      "cell_type": "markdown",
      "metadata": {
        "id": "3VceTS0tGALK"
      },
      "source": [
        "## 3. Read the data\n",
        "\n",
        "Now, let's read the facts dataset. Download it from the abovementioned url and read to the list of sentences."
      ]
    },
    {
      "cell_type": "code",
      "execution_count": null,
      "metadata": {
        "id": "iIu52Ni0GALK"
      },
      "outputs": [],
      "source": [
        "import requests\n",
        "url = \"https://raw.githubusercontent.com/IUCVLab/information-retrieval/main/datasets/facts.txt\"\n",
        "\n",
        "fact_all = requests.get(url).text\n",
        "#TODO read facts into a list of facts. Each fact is a separate element of array\n",
        "facts = fact_all.split('\\n')"
      ]
    },
    {
      "cell_type": "code",
      "execution_count": null,
      "metadata": {
        "colab": {
          "base_uri": "https://localhost:8080/"
        },
        "id": "ZIwxM5WZGALK",
        "outputId": "e339cb60-262e-4604-9796-b810e2fba05d"
      },
      "outputs": [
        {
          "output_type": "stream",
          "name": "stdout",
          "text": [
            "1. If you somehow found a way to extract all of the gold from the bubbling core of our lovely little planet, you would be able to cover all of the land in a layer of gold up to your knees.\n",
            "2. McDonalds calls frequent buyers of their food \"heavy users.\"\n",
            "3. The average person spends 6 months of their lifetime waiting on a red light to turn green.\n",
            "4. The largest recorded snowflake was in Keogh, MT during year 1887, and was 15 inches wide.\n",
            "5. You burn more calories sleeping than you do watching television.\n"
          ]
        }
      ],
      "source": [
        "print(*facts[:5], sep='\\n')\n",
        "\n",
        "assert len(facts) == 159\n",
        "assert ('our lovely little planet') in facts[0]"
      ]
    },
    {
      "cell_type": "markdown",
      "metadata": {
        "id": "C_8xMCVbGALL"
      },
      "source": [
        "## 4. Transform sentences to vectors\n",
        "\n",
        "Transform the list of facts to `numpy.array` of vectors corresponding to each document (`sent_vecs`), inferring them from the model we just loaded."
      ]
    },
    {
      "cell_type": "code",
      "execution_count": null,
      "metadata": {
        "id": "JAZaDvh0GALL"
      },
      "outputs": [],
      "source": [
        "import numpy as np\n",
        "sent_vecs = np.array([embed(fact) for fact in facts ])"
      ]
    },
    {
      "cell_type": "code",
      "execution_count": null,
      "metadata": {
        "id": "qcQIqpOBGALL"
      },
      "outputs": [],
      "source": [
        "assert sent_vecs.shape[0] == len(facts)"
      ]
    },
    {
      "cell_type": "markdown",
      "metadata": {
        "id": "qcBckoY-GALL"
      },
      "source": [
        "## 5. Find closest to the query\n",
        "\n",
        "Now find 5 facts which are the closest to the query using cosine measure.\n",
        "\n",
        "### 5.1. Closest search"
      ]
    },
    {
      "cell_type": "code",
      "execution_count": null,
      "metadata": {
        "id": "V7homkRQGALL"
      },
      "outputs": [],
      "source": [
        "def find_k_closest(query, dataset, k=10):\n",
        "    similarities = [cosine(query, target) for target in dataset]\n",
        "    return np.argsort(similarities)[:k]\n"
      ]
    },
    {
      "cell_type": "markdown",
      "metadata": {
        "id": "LnMhM_rHGALM"
      },
      "source": [
        "### 5.1. Use your function"
      ]
    },
    {
      "cell_type": "code",
      "execution_count": null,
      "metadata": {
        "colab": {
          "base_uri": "https://localhost:8080/"
        },
        "id": "lYLWQ-5BGALM",
        "outputId": "dfb94474-06c4-4f62-b326-fa2a21332547"
      },
      "outputs": [
        {
          "output_type": "stream",
          "name": "stdout",
          "text": [
            "Results for query: good mood\n",
            "\n",
            "\t 57. Gorillas burp when they are happy\n",
            "\t 68. Cherophobia is the fear of fun.\n",
            "\t 98. Blue-eyed people tend to have the highest tolerance of alcohol.\n",
            "\t 45. About half of all Americans are on a diet on any given day.\n",
            "\t 44. Honey never spoils.\n"
          ]
        }
      ],
      "source": [
        "query = \"good mood\"\n",
        "query_vec = embed(query)\n",
        "\n",
        "print(\"Results for query:\", query)\n",
        "print()\n",
        "for k in find_k_closest(query_vec, sent_vecs, 5):\n",
        "    print(\"\\t\", facts[k])"
      ]
    },
    {
      "cell_type": "markdown",
      "metadata": {
        "id": "AXrQ-2zoGALM"
      },
      "source": [
        "## 6. Measure DCG@5 for the following query bucket\n",
        "```\n",
        "good mood\n",
        "gorilla\n",
        "woman\n",
        "earth\n",
        "japan\n",
        "people\n",
        "math\n",
        "```\n",
        "\n",
        "Recommend 5 facts to each of the queries. Write your code below."
      ]
    },
    {
      "cell_type": "code",
      "execution_count": null,
      "metadata": {
        "colab": {
          "base_uri": "https://localhost:8080/"
        },
        "id": "Du5qW_3uGALM",
        "outputId": "393a1655-b645-45e7-e5dc-e44af30d8194"
      },
      "outputs": [
        {
          "output_type": "stream",
          "name": "stdout",
          "text": [
            "good mood\n",
            "\t 57. Gorillas burp when they are happy\n",
            "\t 68. Cherophobia is the fear of fun.\n",
            "\t 98. Blue-eyed people tend to have the highest tolerance of alcohol.\n",
            "\t 45. About half of all Americans are on a diet on any given day.\n",
            "\t 44. Honey never spoils.\n",
            "gorilla\n",
            "\t 55. The word \"gorilla\" is derived from a Greek word meaning, \"A tribe of hairy women.\"\n",
            "\t 57. Gorillas burp when they are happy\n",
            "\t 137. Human birth control pills work on gorillas.\n",
            "\t 106. The male ostrich can roar just like a lion.\n",
            "\t 85. The elephant is the only mammal that can't jump!\n",
            "woman\n",
            "\t 151. Women have twice as many pain receptors on their body than men. But a much higher pain tolerance.\n",
            "\t 16. Men are 6 times more likely to be struck by lightning than women.\n",
            "\t 116. Male dogs lift their legs when they are urinating for a reason. They are trying to leave their mark higher so that it gives off the message that they are tall and intimidating.\n",
            "\t 55. The word \"gorilla\" is derived from a Greek word meaning, \"A tribe of hairy women.\"\n",
            "\t 6. There are more lifeforms living on your skin than there are people on the planet.\n",
            "earth\n",
            "\t 88. Earth is the only planet that is not named after a god.\n",
            "\t 21. Earth has traveled more than 5,000 miles in the past 5 minutes.\n",
            "\t 6. There are more lifeforms living on your skin than there are people on the planet.\n",
            "\t 147. Russia has a larger surface area than Pluto.\n",
            "\t 152. There are more stars in space than there are grains of sand on every beach in the world.\n",
            "japan\n",
            "\t 60. It is considered good luck in Japan when a sumo wrestler makes your baby cry.\n",
            "\t 123. There are 5 temples in Kyoto, Japan that have blood stained ceilings. The ceilings are made from the floorboards of a castle where warriors killed themselves after a long hold-off against an army. To this day, you can still see the outlines and footprints.\n",
            "\t 64. In Japan, crooked teeth are considered cute and attractive.\n",
            "\t 147. Russia has a larger surface area than Pluto.\n",
            "\t 79. A waterfall in Hawaii goes up sometimes instead of down.\n",
            "people\n",
            "\t 6. There are more lifeforms living on your skin than there are people on the planet.\n",
            "\t 34. 95% of people text things they could never say in person.\n",
            "\t 154. The total weight of all those ants, however, is about the same as all the humans.\n",
            "\t 102. More than 50% of the people in the world have never made or received a telephone call.\n",
            "\t 87. If 33 million people held hands, they could make it all the way around the equator.\n",
            "math\n",
            "\t 119. Dogs are capable of understanding up to 250 words and gestures and have demonstrated the ability to do simple mathematical calculations.\n",
            "\t 132. If you started with $0.01 and doubled your money every day, it would take 27 days to become a millionaire.\n",
            "\t 30. If you were to stretch a Slinky out until it's flat, it would measure 87 feet long.\n",
            "\t 94. Of all the words in the English language, the word \"set\" has the most definitions. The word \"run\" comes in close second.\n",
            "\t 27. A mole can dig a tunnel that is 300 feet long in only one night.\n"
          ]
        }
      ],
      "source": [
        "bucket = \"\"\"good mood\n",
        "gorilla\n",
        "woman\n",
        "earth\n",
        "japan\n",
        "people\n",
        "math\"\"\".split('\\n')\n",
        "\n",
        "for term in bucket:\n",
        "    print(term)\n",
        "    for k in find_k_closest(embed(term), sent_vecs, k=5):  # [::-1]\n",
        "        print(\"\\t\", facts[k])"
      ]
    },
    {
      "cell_type": "markdown",
      "metadata": {
        "id": "dRmOi_N-GALM"
      },
      "source": [
        "## 7. Write your own relevance assessments and compute DCG@5"
      ]
    },
    {
      "cell_type": "code",
      "source": [
        "assessments = [\n",
        "    [1, 0, 0, 0, 0], # good mood\n",
        "    [1, 1, 1, 0, 0], # gorilla\n",
        "    [1, 1, 0, 1, 0], # ...\n",
        "    [1, 1, 1, 0, 0],\n",
        "    [1, 1, 1, 0, 0],\n",
        "    [1, 1, 0, 1, 1],\n",
        "    [1, 1, 1, 0, 0]\n",
        "]\n",
        "\n",
        "\n",
        "optimal = [[1] * 5] * 7\n",
        "optimal\n",
        "\n",
        "# compute_dcg(optimal[0], assessments[1])"
      ],
      "metadata": {
        "colab": {
          "base_uri": "https://localhost:8080/"
        },
        "id": "QlY1DLERNU7I",
        "outputId": "49dc4568-edef-4931-a82d-61ee355b08b1"
      },
      "execution_count": null,
      "outputs": [
        {
          "output_type": "execute_result",
          "data": {
            "text/plain": [
              "[[1, 1, 1, 1, 1],\n",
              " [1, 1, 1, 1, 1],\n",
              " [1, 1, 1, 1, 1],\n",
              " [1, 1, 1, 1, 1],\n",
              " [1, 1, 1, 1, 1],\n",
              " [1, 1, 1, 1, 1],\n",
              " [1, 1, 1, 1, 1]]"
            ]
          },
          "metadata": {},
          "execution_count": 12
        }
      ]
    },
    {
      "cell_type": "code",
      "source": [
        "sc = []\n",
        "import numpy as np\n",
        "\n",
        "for rels in assessments:\n",
        "  sc.append([rel / np.log2(i + 1 +1) for i, rel in enumerate(rels)])\n",
        "np.sum(sc, axis=1)\n",
        "\n"
      ],
      "metadata": {
        "colab": {
          "base_uri": "https://localhost:8080/"
        },
        "id": "icm0M9suQM_N",
        "outputId": "2c334223-428b-4a68-d947-95bdb2640663"
      },
      "execution_count": null,
      "outputs": [
        {
          "output_type": "execute_result",
          "data": {
            "text/plain": [
              "array([1.        , 2.13092975, 2.06160631, 2.13092975, 2.13092975,\n",
              "       2.44845912, 2.13092975])"
            ]
          },
          "metadata": {},
          "execution_count": 13
        }
      ]
    },
    {
      "cell_type": "code",
      "source": [
        "# soln:\n",
        "optimal = [[1] * 5] * 7\n",
        "\n",
        "def dcg(rels):\n",
        "    from math import log\n",
        "    s = 0\n",
        "    for i, rel in enumerate(rels):\n",
        "        s += rel / log(1 + i + 1, 2)\n",
        "    return s\n",
        "\n",
        "dcg5 = sum([dcg(row) for row in assessments]) / len(assessments)\n",
        "idcg5 = sum([dcg(row) for row in optimal]) / len(optimal)"
      ],
      "metadata": {
        "id": "eQew87xjRBiB"
      },
      "execution_count": null,
      "outputs": []
    },
    {
      "cell_type": "code",
      "execution_count": null,
      "metadata": {
        "id": "ZpFjAyefGALM",
        "outputId": "3d6045ba-471d-4cbc-b215-2e2ea06353f7",
        "colab": {
          "base_uri": "https://localhost:8080/"
        }
      },
      "outputs": [
        {
          "output_type": "stream",
          "name": "stdout",
          "text": [
            "DCG@5 = 2.0048\n",
            "IDCG@5 = 2.9485\n",
            "nDCG@5 = 0.6800\n"
          ]
        }
      ],
      "source": [
        "print(f\"DCG@5 = {dcg5:.4f}\")\n",
        "print(f\"IDCG@5 = {idcg5:.4f}\")\n",
        "print(f\"nDCG@5 = {dcg5 / idcg5:.4f}\")"
      ]
    },
    {
      "cell_type": "code",
      "source": [],
      "metadata": {
        "id": "GNuaKwFhlI-E"
      },
      "execution_count": null,
      "outputs": []
    }
  ],
  "metadata": {
    "kernelspec": {
      "display_name": "Python 3 (ipykernel)",
      "language": "python",
      "name": "python3"
    },
    "language_info": {
      "codemirror_mode": {
        "name": "ipython",
        "version": 3
      },
      "file_extension": ".py",
      "mimetype": "text/x-python",
      "name": "python",
      "nbconvert_exporter": "python",
      "pygments_lexer": "ipython3",
      "version": "3.9.7"
    },
    "colab": {
      "provenance": []
    }
  },
  "nbformat": 4,
  "nbformat_minor": 0
}