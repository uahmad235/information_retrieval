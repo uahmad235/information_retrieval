{
  "cells": [
    {
      "cell_type": "markdown",
      "id": "726437f1-9589-4fd2-8cfc-26f5ac0a7610",
      "metadata": {
        "id": "726437f1-9589-4fd2-8cfc-26f5ac0a7610"
      },
      "source": [
        "# Flightradar analysis\n",
        "\n",
        "In this task we will use https://www.flightradar24.com/ website to monitor airplanes near Innopolis. For this we will use some information from URL, and from moving airplane items. Let's have fun with airplanes!\n",
        "\n",
        "**NB:** This lab is designed to be executed **locally** at your laptop, as it launches local application (browser). Indeed, headless mode can be used in colab, but this would also require specific browser installation steps. Thus, please use Anaconda."
      ]
    },
    {
      "cell_type": "markdown",
      "id": "c94b20b2-4287-47b2-bd02-95fd88d9dd39",
      "metadata": {
        "id": "c94b20b2-4287-47b2-bd02-95fd88d9dd39"
      },
      "source": [
        "## Dependency installation\n",
        "\n",
        "Let's try to load and parse the page the way we did before:"
      ]
    },
    {
      "cell_type": "code",
      "execution_count": null,
      "id": "8bc16fb2-c56f-4d77-b0d0-8e3dfb9019d3",
      "metadata": {
        "colab": {
          "base_uri": "https://localhost:8080/"
        },
        "id": "8bc16fb2-c56f-4d77-b0d0-8e3dfb9019d3",
        "outputId": "c41e4e63-56f3-48ad-b245-0205c43cd439"
      },
      "outputs": [
        {
          "output_type": "stream",
          "name": "stdout",
          "text": [
            "Status: 451\n"
          ]
        }
      ],
      "source": [
        "import requests\n",
        "from bs4 import BeautifulSoup\n",
        "resp = requests.get(\"https://www.flightradar24.com/\")\n",
        "print(\"Status:\", resp.status_code)"
      ]
    },
    {
      "cell_type": "markdown",
      "id": "d3cd4a96-6c46-4f55-b025-224bef8c2760",
      "metadata": {
        "id": "d3cd4a96-6c46-4f55-b025-224bef8c2760"
      },
      "source": [
        "Wowowow! https://developer.mozilla.org/en-US/docs/Web/HTTP/Status/451 :\n",
        "\n",
        "```\n",
        "The HyperText Transfer Protocol (HTTP) '451 Unavailable For Legal Reasons' client error response code indicates that the user requested a resource that is not available due to legal reasons, such as a web page for which a legal action has been issued.\n",
        "```\n",
        "\n",
        "As we see, the output is not what we would expect. So, what can we do when a page is not being loaded right away, but is rather rendered by a script, and only in a valid browser? Browser engines can help us getting the data. Let's try to load the same web page, but do it in a different way: let's give a browser some time to load the scripts and run them. And then we will work with DOM (Document Object Model), but we will obtain this DOM from the browser engine itself, not via `BeautifulSoup`.\n",
        "\n",
        "Where do we get browser engine from? Simply installing a browser will do the thing. How do we send commands to it from the code, and retrieve the DOM? Service applications called `drivers` will interpret commands and translate them into browser actions.\n",
        "\n",
        "For each supported browser engine you will need to:\n",
        "1. install browser itself;\n",
        "2. download 'driver' - binary executable, which passed commands from selenium to browser. E.g. [Gecko = Firefox](https://github.com/mozilla/geckodriver/releases), [ChromeDriver](http://chromedriver.storage.googleapis.com/index.html);\n",
        "3. unpack driver into a folder under PATH environment variable. Or specify exact binary location when you write the code.\n",
        "\n",
        "### Download driver\n",
        "\n",
        "And place it in any folder or under PATH env. variable. [Firefox](https://github.com/mozilla/geckodriver/releases), [Chrome](http://chromedriver.storage.googleapis.com/index.html)\n",
        "\n",
        "### Install selenium\n",
        "\n",
        "Selenium is a powerful tool for automated UI testing. We will use it to emulate used actions with the website."
      ]
    },
    {
      "cell_type": "code",
      "execution_count": null,
      "id": "ad70a604-60bf-4b2d-a84c-6306fc2644dc",
      "metadata": {
        "colab": {
          "base_uri": "https://localhost:8080/"
        },
        "id": "ad70a604-60bf-4b2d-a84c-6306fc2644dc",
        "outputId": "3087b379-44e3-43c9-c2b7-2045f94315e7"
      },
      "outputs": [
        {
          "output_type": "stream",
          "name": "stdout",
          "text": [
            "Looking in indexes: https://pypi.org/simple, https://us-python.pkg.dev/colab-wheels/public/simple/\n",
            "Collecting selenium\n",
            "  Downloading selenium-4.9.1-py3-none-any.whl (6.6 MB)\n",
            "\u001b[2K     \u001b[90m━━━━━━━━━━━━━━━━━━━━━━━━━━━━━━━━━━━━━━━━\u001b[0m \u001b[32m6.6/6.6 MB\u001b[0m \u001b[31m15.4 MB/s\u001b[0m eta \u001b[36m0:00:00\u001b[0m\n",
            "\u001b[?25hCollecting trio~=0.17\n",
            "  Downloading trio-0.22.0-py3-none-any.whl (384 kB)\n",
            "\u001b[2K     \u001b[90m━━━━━━━━━━━━━━━━━━━━━━━━━━━━━━━━━━━━━━\u001b[0m \u001b[32m384.9/384.9 kB\u001b[0m \u001b[31m15.3 MB/s\u001b[0m eta \u001b[36m0:00:00\u001b[0m\n",
            "\u001b[?25hRequirement already satisfied: certifi>=2021.10.8 in /usr/local/lib/python3.10/dist-packages (from selenium) (2022.12.7)\n",
            "Collecting trio-websocket~=0.9\n",
            "  Downloading trio_websocket-0.10.2-py3-none-any.whl (17 kB)\n",
            "Requirement already satisfied: urllib3[socks]<3,>=1.26 in /usr/local/lib/python3.10/dist-packages (from selenium) (1.26.15)\n",
            "Requirement already satisfied: sortedcontainers in /usr/local/lib/python3.10/dist-packages (from trio~=0.17->selenium) (2.4.0)\n",
            "Requirement already satisfied: attrs>=19.2.0 in /usr/local/lib/python3.10/dist-packages (from trio~=0.17->selenium) (23.1.0)\n",
            "Requirement already satisfied: sniffio in /usr/local/lib/python3.10/dist-packages (from trio~=0.17->selenium) (1.3.0)\n",
            "Collecting async-generator>=1.9\n",
            "  Downloading async_generator-1.10-py3-none-any.whl (18 kB)\n",
            "Requirement already satisfied: exceptiongroup>=1.0.0rc9 in /usr/local/lib/python3.10/dist-packages (from trio~=0.17->selenium) (1.1.1)\n",
            "Collecting outcome\n",
            "  Downloading outcome-1.2.0-py2.py3-none-any.whl (9.7 kB)\n",
            "Requirement already satisfied: idna in /usr/local/lib/python3.10/dist-packages (from trio~=0.17->selenium) (3.4)\n",
            "Collecting wsproto>=0.14\n",
            "  Downloading wsproto-1.2.0-py3-none-any.whl (24 kB)\n",
            "Requirement already satisfied: PySocks!=1.5.7,<2.0,>=1.5.6 in /usr/local/lib/python3.10/dist-packages (from urllib3[socks]<3,>=1.26->selenium) (1.7.1)\n",
            "Collecting h11<1,>=0.9.0\n",
            "  Downloading h11-0.14.0-py3-none-any.whl (58 kB)\n",
            "\u001b[2K     \u001b[90m━━━━━━━━━━━━━━━━━━━━━━━━━━━━━━━━━━━━━━━━\u001b[0m \u001b[32m58.3/58.3 kB\u001b[0m \u001b[31m3.9 MB/s\u001b[0m eta \u001b[36m0:00:00\u001b[0m\n",
            "\u001b[?25hInstalling collected packages: outcome, h11, async-generator, wsproto, trio, trio-websocket, selenium\n",
            "Successfully installed async-generator-1.10 h11-0.14.0 outcome-1.2.0 selenium-4.9.1 trio-0.22.0 trio-websocket-0.10.2 wsproto-1.2.0\n"
          ]
        }
      ],
      "source": [
        "!pip install -U selenium"
      ]
    },
    {
      "cell_type": "markdown",
      "id": "cf482cdf-b48d-416a-8ae3-83711df870e6",
      "metadata": {
        "id": "cf482cdf-b48d-416a-8ae3-83711df870e6"
      },
      "source": [
        "Check it works"
      ]
    },
    {
      "cell_type": "code",
      "execution_count": null,
      "id": "c7b848cb-12df-49ab-93d0-d3c9be73750a",
      "metadata": {
        "id": "c7b848cb-12df-49ab-93d0-d3c9be73750a"
      },
      "outputs": [],
      "source": [
        "from selenium import webdriver"
      ]
    },
    {
      "cell_type": "markdown",
      "id": "50821f49-e572-45bd-bd07-a639e5353637",
      "metadata": {
        "id": "50821f49-e572-45bd-bd07-a639e5353637"
      },
      "source": [
        "### Launch browser\n",
        "\n",
        "This will open a browser window"
      ]
    },
    {
      "cell_type": "code",
      "execution_count": null,
      "id": "22e8e59d-7b26-42e1-97d6-d54046100412",
      "metadata": {
        "id": "22e8e59d-7b26-42e1-97d6-d54046100412"
      },
      "outputs": [],
      "source": [
        "browser = webdriver.Firefox()\n",
        "# or explicitly\n",
        "# browser = webdriver.Firefox(\n",
        "#     executable_path='C:/bin/geckodriver.exe', \n",
        "#     firefox_binary='C:/Program Files/Mozilla Firefox/firefox.exe'\n",
        "# )"
      ]
    },
    {
      "cell_type": "markdown",
      "id": "568732b0-c333-4197-9e34-c2d31b9271e7",
      "metadata": {
        "id": "568732b0-c333-4197-9e34-c2d31b9271e7"
      },
      "source": [
        "### Download the page ... again"
      ]
    },
    {
      "cell_type": "code",
      "execution_count": null,
      "id": "393e503a-637a-4777-99c4-863ca127e158",
      "metadata": {
        "id": "393e503a-637a-4777-99c4-863ca127e158"
      },
      "outputs": [],
      "source": [
        "from selenium.webdriver.common.by import By\n",
        "\n",
        "# navigate to page\n",
        "browser.get('https://www.flightradar24.com/')\n",
        "browser.implicitly_wait(10)  # wait for 10 seconds\n",
        "\n",
        "# select all visible airplanes from document\n",
        "elements = browser.find_elements(By.CSS_SELECTOR, \"div[role=button]\")\n",
        "# note that if number differs from launch to launch this means better extend wait time\n",
        "print(\"Elements found:\", len(elements))"
      ]
    },
    {
      "cell_type": "markdown",
      "id": "d15b0881-78d7-4702-bddc-9e8da62eb35a",
      "metadata": {
        "id": "d15b0881-78d7-4702-bddc-9e8da62eb35a"
      },
      "source": [
        "### Preparatory functions\n",
        "\n",
        "We will center our map around Innopolis, and choose one of the suitable scales."
      ]
    },
    {
      "cell_type": "code",
      "execution_count": null,
      "id": "025c45bc-60c3-459a-9ff1-7af0e10c1a58",
      "metadata": {
        "id": "025c45bc-60c3-459a-9ff1-7af0e10c1a58"
      },
      "outputs": [],
      "source": [
        "innopolis = \"55.75,48.75\"\n",
        "scale = 9\n",
        "\n",
        "\n",
        "def scale_km_per_px(scale):\n",
        "    return 2 ** 8 / 3 / (2 ** scale)\n",
        "\n",
        "\n",
        "def dist(a, b):\n",
        "    return ((a[0] - b[0]) ** 2 + (a[1] - b[1]) ** 2) ** .5"
      ]
    },
    {
      "cell_type": "markdown",
      "id": "1c5fafc5-d165-4fff-a764-f3ed1bfefc62",
      "metadata": {
        "id": "1c5fafc5-d165-4fff-a764-f3ed1bfefc62"
      },
      "source": [
        "## Solving the problem\n",
        "\n",
        "### Obtain center coordinates\n",
        "\n",
        "First task is to get pixel coordinates of the screen center. You are given a browser instance object. And we are interested, what is the size of the rendered page (NB not the window!)? For this you will do the following:\n",
        "1. find the root `html` tag by tag name. Refer of [`find_element` documentation](https://selenium-python.readthedocs.io/locating-elements.html) and [`By` options](https://www.selenium.dev/selenium/docs/api/py/webdriver/selenium.webdriver.common.by.html).\n",
        "2. Extract **attribute** values of this tag. We are interested in `clientWidth` and `clientHeight`. [See this doc](https://selenium-python.readthedocs.io/api.html#selenium.webdriver.remote.webelement.WebElement.get_attribute) for usage.\n",
        "3. Divide these values by 2 and return as a tuple."
      ]
    },
    {
      "cell_type": "code",
      "execution_count": null,
      "id": "8510b43e-81d8-4479-a75c-4d7de2114870",
      "metadata": {
        "id": "8510b43e-81d8-4479-a75c-4d7de2114870"
      },
      "outputs": [],
      "source": [
        "def get_center_point(browser):\n",
        "    html = browser.find_element(By.TAG_NAME, \"html\")\n",
        "    inner_width = int(html.get_attribute('clientWidth'))\n",
        "    inner_height = int(html.get_attribute('clientHeight'))\n",
        "    innopolis_px = (inner_width / 2, inner_height / 2)\n",
        "    return innopolis_px\n"
      ]
    },
    {
      "cell_type": "markdown",
      "id": "cafbd055-0e4b-4fc3-a11f-b4ac7de5349f",
      "metadata": {
        "id": "cafbd055-0e4b-4fc3-a11f-b4ac7de5349f"
      },
      "source": [
        "### Catching the airplane\n",
        "\n",
        "This code will search for airplane and airport images and their coordinates on the map. Your task is to complete the check if this icon is an airport, or an airplane.\n",
        "\n",
        "Airport example:\n",
        "\n",
        "```\n",
        "<div style=\"width: 20px; height: 20px; overflow: hidden; position: absolute; cursor: pointer; touch-action: none; left: 131px; top: -89px; z-index: 1090430;\" title=\"Yoshkar-Ola Airport (JOK/UWKJ)\" aria-label=\"Yoshkar-Ola Airport (JOK/UWKJ)\" role=\"button\" tabindex=\"0\">...</div>\n",
        "```\n",
        "\n",
        "Airplane example:\n",
        "\n",
        "```\n",
        "<div style=\"width: 33px; height: 33px; overflow: hidden; position: absolute; cursor: pointer; touch-action: none; left: -30px; top: 17px; z-index: 1031004;\" title=\"\" role=\"button\" tabindex=\"-1\">...</div>\n",
        "```\n",
        "\n",
        "Again, I think [get_attribute(...) call](https://selenium-python.readthedocs.io/api.html#selenium.webdriver.remote.webelement.WebElement.get_attribute) can help in distinguishing these."
      ]
    },
    {
      "cell_type": "code",
      "execution_count": null,
      "id": "2aa560df-d6e8-4a59-8499-1305cacf5f3d",
      "metadata": {
        "id": "2aa560df-d6e8-4a59-8499-1305cacf5f3d"
      },
      "outputs": [],
      "source": [
        "def spot_some_air_stuff(browser):\n",
        "    elements = browser.find_elements(By.CSS_SELECTOR, \"div[role=button][tabindex='-1']\")\n",
        "    airports = []\n",
        "    airplanes = []\n",
        "    \n",
        "    for element in elements:\n",
        "        aria = element.get_attribute('aria-label')\n",
        "        if aria:\n",
        "            airports.append(element)\n",
        "        else:\n",
        "            airplanes.append(element)\n",
        "    return airports, airplanes"
      ]
    },
    {
      "cell_type": "markdown",
      "id": "54f15191-b605-446c-960d-68ab2dcfda62",
      "metadata": {
        "id": "54f15191-b605-446c-960d-68ab2dcfda62"
      },
      "source": [
        "### Get the info from the pane\n",
        "\n",
        "When we click on the airplane image, a side pane appears. We will read the info from this pane."
      ]
    },
    {
      "cell_type": "code",
      "execution_count": null,
      "id": "7f679837-54fa-48c6-b748-b9e8e6cf2a2b",
      "metadata": {
        "id": "7f679837-54fa-48c6-b748-b9e8e6cf2a2b"
      },
      "outputs": [],
      "source": [
        "def get_flight_info(browser):\n",
        "    flight = browser.find_element(By.CSS_SELECTOR, 'h2.airline-info__flight-no')\n",
        "    dep = browser.find_element(By.CSS_SELECTOR, \"a.dep.iata\")\n",
        "    dest = browser.find_element(By.CSS_SELECTOR, \"a.arr.iata\")\n",
        "    flight_number = flight.text\n",
        "    departure = dep.get_attribute('data-tooltip-value')\n",
        "    destination = dest.get_attribute('data-tooltip-value')   \n",
        "    return flight_number, departure, destination"
      ]
    },
    {
      "cell_type": "markdown",
      "id": "7892c1b2-7feb-4244-99df-a9514b6777f5",
      "metadata": {
        "id": "7892c1b2-7feb-4244-99df-a9514b6777f5"
      },
      "source": [
        "### And here is the main method\n",
        "\n",
        "Add some missing code lines, where TODO is specified."
      ]
    },
    {
      "cell_type": "code",
      "execution_count": null,
      "id": "a2bcff33-5a4f-4a1d-9d8b-6877086b42a7",
      "metadata": {
        "id": "a2bcff33-5a4f-4a1d-9d8b-6877086b42a7"
      },
      "outputs": [],
      "source": [
        "def report_flights(browser, center, scale):\n",
        "    import time\n",
        "\n",
        "    browser.get(f\"https://www.flightradar24.com/{center}/{scale}\")\n",
        "    # wait a page to load\n",
        "    browser.implicitly_wait(5)\n",
        "    # wait dynamic elements to load\n",
        "    time.sleep(5)\n",
        "    innopolis_px = get_center_point(browser)   \n",
        "    airports, airplanes = spot_some_air_stuff(browser)\n",
        "    for element in airports:\n",
        "        loc = element.location\n",
        "\n",
        "        # shifts are due to airport figure size\n",
        "        coord = (element.location['x'] + element.size['width'] // 2, \n",
        "                 element.location['y'] + element.size['height'] // 2)\n",
        "        d = dist(innopolis_px, coord) * scale_km_per_px(scale)\n",
        "        print(f\"Airport {element.get_attribute('aria-label')} is {d:.2f} km away.\")\n",
        "    \n",
        "    for element in airplanes:\n",
        "        try:\n",
        "            # TODO click on the airplane icon (element). See https://selenium-python.readthedocs.io/api.html#selenium.webdriver.remote.webelement.WebElement.click\n",
        "            element.click()\n",
        "            \n",
        "            # let it render the pane\n",
        "            time.sleep(1)\n",
        "            # extract flight info from the pane\n",
        "            flight_number, departure, destination = get_flight_info(browser)\n",
        "            # shifts are due to airplane figure size\n",
        "            coord = (element.location['x'] + element.size['width'] // 2, \n",
        "                     element.location['y'] + element.size['height'] // 2)\n",
        "            d = dist(innopolis_px, coord) * scale_km_per_px(scale)\n",
        "            message = (f\"{flight_number} flies\\n\\tfrom \" + \n",
        "                       f\"{departure}\\n\\tto \" + \n",
        "                       f\"{destination}\\n\\t\" + \n",
        "                       f\"{d:.2f}km far away from Innopolis\")\n",
        "            message = message.replace(\"<br>\", \" \")\n",
        "            print(message)\n",
        "\n",
        "            # TODO: click on the [x] in the corner of the panel.\n",
        "            # this is an <a> tag with 'close-panel' class\n",
        "            close = browser.find_element(By.CSS_SELECTOR, \"a.close-panel\")\n",
        "            close.click()\n",
        "\n",
        "        except Exception as e:\n",
        "            pass\n",
        "            # print(e)"
      ]
    },
    {
      "cell_type": "code",
      "execution_count": null,
      "id": "1daeceee-1415-439c-80eb-a5b921a47853",
      "metadata": {
        "id": "1daeceee-1415-439c-80eb-a5b921a47853",
        "outputId": "dad06444-5a83-42eb-e48d-6cc49c9038c4"
      },
      "outputs": [
        {
          "name": "stdout",
          "output_type": "stream",
          "text": [
            "Airport Naberezhnye Chelny Begishevo Airport (NBC/UWKE) is 217.43 km away.\n",
            "Airport Kazan International Airport (KZN/UWKD) is 70.69 km away.\n",
            "U63768 flies\n",
            "\tfrom Hannover Langenhagen Airport (HAJ/EDDV)\n",
            "\tto Yekaterinburg Koltsovo International Airport (SVX/USSS)\n",
            "\t134.16km far away from Innopolis\n",
            "SU1680 flies\n",
            "\tfrom Moscow Sheremetyevo International Airport (SVO/UUEE)\n",
            "\tto Naberezhnye Chelny Begishevo Airport (NBC/UWKE)\n",
            "\t76.52km far away from Innopolis\n",
            "Wall time: 11.7 s\n"
          ]
        }
      ],
      "source": [
        "%%time\n",
        "report_flights(browser, innopolis, 8)"
      ]
    },
    {
      "cell_type": "markdown",
      "id": "4a3e85ae-291f-40e3-97ed-70a914c62ef3",
      "metadata": {
        "id": "4a3e85ae-291f-40e3-97ed-70a914c62ef3"
      },
      "source": [
        "### And now we close the browser"
      ]
    },
    {
      "cell_type": "code",
      "execution_count": null,
      "id": "cf841036-517d-49af-b8ca-1d4fc7489014",
      "metadata": {
        "id": "cf841036-517d-49af-b8ca-1d4fc7489014"
      },
      "outputs": [],
      "source": [
        "browser.quit()"
      ]
    },
    {
      "cell_type": "markdown",
      "id": "5e640683-8102-4b30-9af3-da006cfbe9f6",
      "metadata": {
        "id": "5e640683-8102-4b30-9af3-da006cfbe9f6"
      },
      "source": [
        "## Headless\n",
        "\n",
        "Drawing the page explicitly consumes additional resources. Thus, we will run our application with no browser window now!\n",
        "\n",
        "Browsers (at least [FF](https://developer.mozilla.org/en-US/docs/Mozilla/Firefox/Headless_mode), [Chrome](https://intoli.com/blog/running-selenium-with-headless-chrome/), IE) have headless mode - no window rendering and so on. Which means it should work much faster!"
      ]
    },
    {
      "cell_type": "code",
      "execution_count": null,
      "id": "c4927163-addd-4990-8922-e6b84b270b1a",
      "metadata": {
        "id": "c4927163-addd-4990-8922-e6b84b270b1a"
      },
      "outputs": [],
      "source": [
        "options = webdriver.FirefoxOptions()\n",
        "options.headless = True\n",
        "# options.add_argument('headless') -- old version of syntax\n",
        "options.add_argument('window-size=1200x600')\n",
        "browser = webdriver.Firefox(options=options)"
      ]
    },
    {
      "cell_type": "code",
      "execution_count": null,
      "id": "9d74fd08-33e3-40cf-9988-1c58caad2fa8",
      "metadata": {
        "id": "9d74fd08-33e3-40cf-9988-1c58caad2fa8",
        "outputId": "0e27cfb6-8949-43d1-ad81-0ac44e28b238"
      },
      "outputs": [
        {
          "name": "stdout",
          "output_type": "stream",
          "text": [
            "Airport Cheboksary Airport (CSY/UWKS) is 82.11 km away.\n",
            "Airport Naberezhnye Chelny Begishevo Airport (NBC/UWKE) is 217.43 km away.\n",
            "Airport Kazan International Airport (KZN/UWKD) is 70.69 km away.\n",
            "U63768 flies\n",
            "\tfrom Hannover Langenhagen Airport (HAJ/EDDV)\n",
            "\tto Yekaterinburg Koltsovo International Airport (SVX/USSS)\n",
            "\t139.14km far away from Innopolis\n",
            "4G410 flies\n",
            "\tfrom Yekaterinburg Koltsovo International Airport (SVX/USSS)\n",
            "\tto  (N/A/N/A)\n",
            "\t122.26km far away from Innopolis\n",
            "SU1680 flies\n",
            "\tfrom Moscow Sheremetyevo International Airport (SVO/UUEE)\n",
            "\tto Naberezhnye Chelny Begishevo Airport (NBC/UWKE)\n",
            "\t81.88km far away from Innopolis\n",
            "Wall time: 14.3 s\n"
          ]
        }
      ],
      "source": [
        "%%time\n",
        "report_flights(browser, innopolis, 8)"
      ]
    },
    {
      "cell_type": "code",
      "execution_count": null,
      "id": "b64f847f-011f-46a6-a7ed-c096c669f8e3",
      "metadata": {
        "id": "b64f847f-011f-46a6-a7ed-c096c669f8e3"
      },
      "outputs": [],
      "source": [
        "browser.quit()"
      ]
    }
  ],
  "metadata": {
    "kernelspec": {
      "display_name": "Python 3 (ipykernel)",
      "language": "python",
      "name": "python3"
    },
    "language_info": {
      "codemirror_mode": {
        "name": "ipython",
        "version": 3
      },
      "file_extension": ".py",
      "mimetype": "text/x-python",
      "name": "python",
      "nbconvert_exporter": "python",
      "pygments_lexer": "ipython3",
      "version": "3.9.7"
    },
    "colab": {
      "provenance": []
    }
  },
  "nbformat": 4,
  "nbformat_minor": 5
}