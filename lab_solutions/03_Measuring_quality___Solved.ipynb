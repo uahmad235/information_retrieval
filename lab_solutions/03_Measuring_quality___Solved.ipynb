{
  "cells": [
    {
      "cell_type": "markdown",
      "id": "1b1f94b9-7b73-4748-9286-d786a69bdf71",
      "metadata": {
        "id": "1b1f94b9-7b73-4748-9286-d786a69bdf71"
      },
      "source": [
        "# 1. Assessor and analyst work\n",
        "\n",
        "## 1.0. Rating and criteria\n",
        "\n",
        "Please [open this document](https://static.googleusercontent.com/media/guidelines.raterhub.com/en//searchqualityevaluatorguidelines.pdf)\n",
        "and study chapters 13.0-13.4. Your task will be to assess the organic answers of search engines given the same query.\n",
        "\n",
        "## 1.1. Explore the page\n",
        "\n",
        "For the following search engines:\n",
        "- https://duckduckgo.com/\n",
        "- https://www.bing.com/\n",
        "- https://ya.ru/\n",
        "- https://www.google.com/\n",
        "\n",
        "Perform the same query: \"**How to get from Kazan to Voronezh**\".\n",
        "\n",
        "Discuss with your TA the following:\n",
        "1. Which elements you may identify at SERP? Ads, snippets, blends from other sources, ...?\n",
        "2. Where are organic results? How many of them are there?\n",
        "\n",
        "## 1.2. Rate the results of the search engine\n",
        "\n",
        "If there are many of you in the group, assess all search engines, otherwise choose 1 or 2. There should be no less than 5 of your for each search engine. Use the scale from the handbook, use 0..4 numerical equivalents for `[FailsM, SM, MM, HM, FullyM]`. \n",
        "\n",
        "Compute:\n",
        "- average relevance and standard deviation for each SERP element.\n",
        "- [Fleiss kappa score](https://en.wikipedia.org/wiki/Fleiss%27_kappa#Worked_example) for your group. Use [this implementation](https://www.statsmodels.org/dev/generated/statsmodels.stats.inter_rater.fleiss_kappa.html).\n",
        "- [Kendall rank coefficient](https://en.wikipedia.org/wiki/Kendall_rank_correlation_coefficient) for some pairs in your group. Use [this implementation](https://docs.scipy.org/doc/scipy/reference/generated/scipy.stats.kendalltau.html).\n",
        "\n",
        "Discuss numerical results. Did you agree on the relevance? Did you agree on the rank? What is the difference?"
      ]
    },
    {
      "cell_type": "code",
      "execution_count": null,
      "id": "3c3738c6-ed54-4113-b75a-cba812c5aade",
      "metadata": {
        "id": "3c3738c6-ed54-4113-b75a-cba812c5aade"
      },
      "outputs": [],
      "source": [
        "import numpy as np\n",
        "# example input by users\n",
        "ranking_data = np.array([\n",
        "    [4, 3, 4, 0, 1, 1, 1, 0, 1, 1, 1, 0], # assessor 1 relevance\n",
        "    [4, 3, 3, 0, 2, 1, 1, 1, 2, 1, 1, 1], # 2\n",
        "    [4, 4, 3, 4, 4, 3, 3, 3, 2, 2, 2, 2],\n",
        "    [4, 4, 4, 4, 2, 3, 3, 2, 3, 3, 3, 1],\n",
        "    [4, 4, 4, 4, 2, 2, 2, 4, 2, 2, 2, 3],\n",
        "    [3, 3, 3, 3, 2, 2, 2, 3, 2, 2, 2, 3],\n",
        "    [1, 4, 4, 1, 2, 2, 2, 1, 2, 2, 2, 0],\n",
        "    [1, 3, 4, 4, 2, 2, 2, 2, 2, 1, 1, 1],\n",
        "    [4, 3, 4, 3, 3, 2, 2, 2, 1, 0, 1, 0],\n",
        "    [3, 3, 4 ,3, 4, 3 ,4 ,3 ,2, 4 ,2, 0],\n",
        "    [1, 4, 4, 1, 1, 2, 2, 1, 2, 2, 2, 0],\n",
        "    [1, 4, 3, 1, 4, 3, 1, 3, 3, 3, 3, 2]\n",
        "    \n",
        "])"
      ]
    },
    {
      "cell_type": "markdown",
      "id": "32a88b0e-5ece-404c-9fc2-82c4d1bb3281",
      "metadata": {
        "id": "32a88b0e-5ece-404c-9fc2-82c4d1bb3281"
      },
      "source": [
        "Averages ang standard deviations per item."
      ]
    },
    {
      "cell_type": "code",
      "execution_count": null,
      "id": "59c53e3e-120f-45ec-94c1-f02d061f0177",
      "metadata": {
        "colab": {
          "base_uri": "https://localhost:8080/"
        },
        "id": "59c53e3e-120f-45ec-94c1-f02d061f0177",
        "outputId": "2a0a3923-5ae0-4075-8871-265bfbab4d4d"
      },
      "outputs": [
        {
          "output_type": "stream",
          "name": "stdout",
          "text": [
            "1 relevance 2.83 += 1.34\n",
            "2 relevance 3.50 += 0.50\n",
            "3 relevance 3.67 += 0.47\n",
            "4 relevance 2.33 += 1.55\n",
            "5 relevance 2.42 += 1.04\n",
            "6 relevance 2.17 += 0.69\n",
            "7 relevance 2.08 += 0.86\n",
            "8 relevance 2.08 += 1.11\n",
            "9 relevance 2.00 += 0.58\n",
            "10 relevance 1.92 += 1.04\n",
            "11 relevance 1.83 += 0.69\n",
            "12 relevance 1.08 += 1.11\n"
          ]
        }
      ],
      "source": [
        "mean = np.mean(ranking_data, axis=0)\n",
        "stddev = np.std(ranking_data, axis=0)\n",
        "\n",
        "for i, (m, s) in enumerate(zip(mean, stddev)):\n",
        "  print(f\"{i+1} relevance {m:.2f} += {s:.2f}\")"
      ]
    },
    {
      "cell_type": "markdown",
      "id": "70a88642-87aa-42c1-b913-83eb9b22d973",
      "metadata": {
        "id": "70a88642-87aa-42c1-b913-83eb9b22d973"
      },
      "source": [
        "Fleiss kappa score"
      ]
    },
    {
      "cell_type": "code",
      "execution_count": null,
      "id": "06e63c2c-090d-4da1-b0b8-45ec2538e635",
      "metadata": {
        "colab": {
          "base_uri": "https://localhost:8080/"
        },
        "id": "06e63c2c-090d-4da1-b0b8-45ec2538e635",
        "outputId": "020428be-b7d7-45ed-fce7-e91685e90243"
      },
      "outputs": [
        {
          "output_type": "stream",
          "name": "stdout",
          "text": [
            "Looking in indexes: https://pypi.org/simple, https://us-python.pkg.dev/colab-wheels/public/simple/\n",
            "Requirement already satisfied: statsmodels in /usr/local/lib/python3.10/dist-packages (0.13.5)\n",
            "Requirement already satisfied: packaging>=21.3 in /usr/local/lib/python3.10/dist-packages (from statsmodels) (23.1)\n",
            "Requirement already satisfied: numpy>=1.17 in /usr/local/lib/python3.10/dist-packages (from statsmodels) (1.22.4)\n",
            "Requirement already satisfied: pandas>=0.25 in /usr/local/lib/python3.10/dist-packages (from statsmodels) (1.5.3)\n",
            "Requirement already satisfied: patsy>=0.5.2 in /usr/local/lib/python3.10/dist-packages (from statsmodels) (0.5.3)\n",
            "Requirement already satisfied: scipy>=1.3 in /usr/local/lib/python3.10/dist-packages (from statsmodels) (1.10.1)\n",
            "Requirement already satisfied: pytz>=2020.1 in /usr/local/lib/python3.10/dist-packages (from pandas>=0.25->statsmodels) (2022.7.1)\n",
            "Requirement already satisfied: python-dateutil>=2.8.1 in /usr/local/lib/python3.10/dist-packages (from pandas>=0.25->statsmodels) (2.8.2)\n",
            "Requirement already satisfied: six in /usr/local/lib/python3.10/dist-packages (from patsy>=0.5.2->statsmodels) (1.16.0)\n"
          ]
        }
      ],
      "source": [
        "!pip install statsmodels"
      ]
    },
    {
      "cell_type": "code",
      "execution_count": null,
      "id": "6cb6cbb6-7768-42f0-aed3-215488d15bc2",
      "metadata": {
        "colab": {
          "base_uri": "https://localhost:8080/"
        },
        "id": "6cb6cbb6-7768-42f0-aed3-215488d15bc2",
        "outputId": "0f88674c-71f5-4a7e-e6d8-9a9c92f2236e"
      },
      "outputs": [
        {
          "output_type": "stream",
          "name": "stdout",
          "text": [
            "[[0 4 0 2 6]\n",
            " [0 0 0 6 6]\n",
            " [0 0 0 4 8]\n",
            " [2 3 0 3 4]\n",
            " [0 2 6 1 3]\n",
            " [0 2 6 4 0]\n",
            " [0 3 6 2 1]\n",
            " [1 3 3 4 1]\n",
            " [0 2 8 2 0]\n",
            " [1 3 5 2 1]\n",
            " [0 4 6 2 0]\n",
            " [5 3 2 2 0]]\n"
          ]
        },
        {
          "output_type": "execute_result",
          "data": {
            "text/plain": [
              "0.11603214841929356"
            ]
          },
          "metadata": {},
          "execution_count": 7
        }
      ],
      "source": [
        "from statsmodels.stats.inter_rater import aggregate_raters, fleiss_kappa\n",
        "\n",
        "# TODO your code here\n",
        "agg, cats =  aggregate_raters(ranking_data.T)\n",
        "print(agg)\n",
        "fleiss_kappa(agg)"
      ]
    },
    {
      "cell_type": "markdown",
      "id": "3bd6069e-e8a1-4483-b1f2-bf5f4e982283",
      "metadata": {
        "id": "3bd6069e-e8a1-4483-b1f2-bf5f4e982283"
      },
      "source": [
        "Kendall tau score is pairwise. Compare one to another."
      ]
    },
    {
      "cell_type": "code",
      "source": [
        "corrs = np.zeros_like(ranking_data)\n"
      ],
      "metadata": {
        "id": "jWukGDIaF_60"
      },
      "id": "jWukGDIaF_60",
      "execution_count": null,
      "outputs": []
    },
    {
      "cell_type": "code",
      "execution_count": null,
      "id": "6e7f5f22-74a4-47cd-848a-09c8e1abb39c",
      "metadata": {
        "colab": {
          "base_uri": "https://localhost:8080/"
        },
        "id": "6e7f5f22-74a4-47cd-848a-09c8e1abb39c",
        "outputId": "c9f7f83f-aa24-4232-efb6-9599df03adfd"
      },
      "outputs": [
        {
          "output_type": "execute_result",
          "data": {
            "text/plain": [
              "array([[0, 0, 0, 0, 0, 0, 0, 0, 0, 0, 0, 0],\n",
              "       [0, 0, 0, 0, 0, 0, 0, 0, 0, 0, 0, 0],\n",
              "       [0, 0, 0, 0, 0, 0, 0, 0, 0, 0, 0, 0],\n",
              "       [0, 0, 0, 0, 0, 0, 0, 0, 0, 0, 0, 0],\n",
              "       [0, 0, 0, 0, 0, 0, 0, 0, 0, 0, 0, 0],\n",
              "       [0, 0, 0, 0, 0, 0, 0, 0, 0, 0, 0, 0],\n",
              "       [0, 0, 0, 0, 0, 0, 0, 0, 0, 0, 0, 0],\n",
              "       [0, 0, 0, 0, 0, 0, 0, 0, 0, 0, 0, 0],\n",
              "       [0, 0, 0, 0, 0, 0, 0, 0, 0, 0, 0, 0],\n",
              "       [0, 0, 0, 0, 0, 0, 0, 0, 0, 0, 0, 0],\n",
              "       [0, 0, 0, 0, 0, 0, 0, 0, 0, 0, 0, 0],\n",
              "       [0, 0, 0, 0, 0, 0, 0, 0, 0, 0, 0, 0]])"
            ]
          },
          "metadata": {},
          "execution_count": 11
        }
      ],
      "source": [
        "from scipy.stats import kendalltau\n",
        "\n",
        "# TODO your code here\n",
        "# np.zeros()\n",
        "\n",
        "\n",
        "for i, _ in enumerate(ranking_data):\n",
        "  for j, _ in enumerate(ranking_data):\n",
        "    if i != j:\n",
        "      corr = kendalltau(ranking_data[i, :], ranking_data[j,:])\n",
        "      corrs[i,j] = corr.correlation\n",
        "  \n",
        "corrs"
      ]
    },
    {
      "cell_type": "markdown",
      "id": "9eed044a-9a49-432d-b7a6-7591087d0de7",
      "metadata": {
        "id": "9eed044a-9a49-432d-b7a6-7591087d0de7"
      },
      "source": [
        "# 2. Engineer work\n",
        "\n",
        "You will create a bucket of URLs which are relevant for the query **\"free cloud git\"**. Then you will automate the search procedure using https://serpapi.com/, or https://developers.google.com/custom-search/v1/overview, or whatever.\n",
        "\n",
        "Then you will compute MRR@10 and Precision@10.\n",
        "\n",
        "## 2.1. Build your bucket here"
      ]
    },
    {
      "cell_type": "code",
      "execution_count": null,
      "id": "e11aa566-0ab3-48d7-959c-ab6cb875d7ac",
      "metadata": {
        "id": "e11aa566-0ab3-48d7-959c-ab6cb875d7ac"
      },
      "outputs": [],
      "source": [
        "rel_bucket = [\n",
        "    \"github.com\",\n",
        "    \"gitpod.io\",\n",
        "    \"gitflic.ru\",\n",
        "    \"git-scm.com\",\n",
        "    \"gitlab.com\",\n",
        "    \"git-tower.com\",\n",
        "    \"azure.microsoft.com\",\n",
        "    \"gitea.io\",\n",
        "]\n",
        "\n",
        "query = \"free git cloud\""
      ]
    },
    {
      "cell_type": "markdown",
      "id": "d501aa5e-7051-4039-930b-b293c49721e1",
      "metadata": {
        "id": "d501aa5e-7051-4039-930b-b293c49721e1"
      },
      "source": [
        "## 2.2. Relevance assessment\n",
        "\n",
        "Write the code to check that the obtained document is relevant (True) or not (False)."
      ]
    },
    {
      "cell_type": "code",
      "execution_count": null,
      "id": "450a610f-c121-4781-8719-1dcfd4892625",
      "metadata": {
        "id": "450a610f-c121-4781-8719-1dcfd4892625"
      },
      "outputs": [],
      "source": [
        "def is_rel(resp_url):\n",
        "    # TODO your code here\n",
        "    return any(r in resp_url for r in rel_bucket)\n",
        "    "
      ]
    },
    {
      "cell_type": "markdown",
      "id": "5c3c2ea8-19c1-44b5-8fc2-fa4e23182dae",
      "metadata": {
        "id": "5c3c2ea8-19c1-44b5-8fc2-fa4e23182dae"
      },
      "source": [
        "## 2.3. Automation\n",
        "\n",
        "Get search results from the automation tool you use."
      ]
    },
    {
      "cell_type": "code",
      "source": [
        "import json\n",
        "\n",
        "with open('sample.json') as f:\n",
        "  data = json.load(f)"
      ],
      "metadata": {
        "id": "Wb07dRsqIKFR"
      },
      "id": "Wb07dRsqIKFR",
      "execution_count": null,
      "outputs": []
    },
    {
      "cell_type": "code",
      "execution_count": null,
      "id": "434e58a5-77a8-4d54-a495-8540361f6df7",
      "metadata": {
        "colab": {
          "base_uri": "https://localhost:8080/"
        },
        "id": "434e58a5-77a8-4d54-a495-8540361f6df7",
        "outputId": "be35c9d0-9a58-4c46-8b63-08e376640614"
      },
      "outputs": [
        {
          "output_type": "stream",
          "name": "stdout",
          "text": [
            "pos: 1\n",
            "title: 6 places to host your git repository - Opensource.com\n",
            "https://opensource.com/article/18/8/github-alternatives\n",
            "False\n",
            "\n",
            "pos: 2\n",
            "title: Bitbucket | Git solution for teams using Jira\n",
            "https://bitbucket.org/product\n",
            "False\n",
            "\n",
            "pos: 3\n",
            "title: Gitpod: Always ready to code.\n",
            "https://www.gitpod.io/\n",
            "True\n",
            "\n",
            "pos: 4\n",
            "title: GitLab: The DevSecOps Platform\n",
            "https://about.gitlab.com/\n",
            "True\n",
            "\n",
            "pos: 5\n",
            "title: GitHub: Let's build from here · GitHub\n",
            "https://github.com/\n",
            "True\n",
            "\n",
            "pos: 6\n",
            "title: 14 Git Hosting Services Compared | Tower Blog\n",
            "https://www.git-tower.com/blog/git-hosting-services-compared/\n",
            "True\n",
            "\n",
            "pos: 7\n",
            "title: Top GitHub Alternatives to Host Your Open Source Projects\n",
            "https://itsfoss.com/github-alternatives/\n",
            "False\n",
            "\n",
            "pos: 8\n",
            "title: Git\n",
            "https://git-scm.com/\n",
            "True\n",
            "\n",
            "pos: 9\n",
            "title: Top 10 best Git hosting solutions and services in 2021\n",
            "https://www.devopsschool.com/blog/top-5-git-hosting-solutions/\n",
            "False\n",
            "\n",
            "pos: 10\n",
            "title: 15 Best Github Alternatives in 2023 - Guru99\n",
            "https://www.guru99.com/github-alternative.html\n",
            "False\n",
            "\n"
          ]
        }
      ],
      "source": [
        "rels = []\n",
        "\n",
        "for result in data[\"organic_results\"]:\n",
        "    print(f\"pos: {result['position']}\")\n",
        "    print(f\"title: {result['title']}\")\n",
        "    print(result['link'])\n",
        "    print(is_rel(result['link']))\n",
        "    rels.append(int(is_rel(result['link'])))\n",
        "    print()"
      ]
    },
    {
      "cell_type": "code",
      "execution_count": null,
      "id": "70849db7-918b-4b17-b045-3a5a06927936",
      "metadata": {
        "id": "70849db7-918b-4b17-b045-3a5a06927936",
        "outputId": "97c7e870-5100-4f98-f06d-c1155d8bec28",
        "colab": {
          "base_uri": "https://localhost:8080/"
        }
      },
      "outputs": [
        {
          "output_type": "execute_result",
          "data": {
            "text/plain": [
              "[0, 0, 1, 1, 1, 1, 0, 1, 0, 0]"
            ]
          },
          "metadata": {},
          "execution_count": 17
        }
      ],
      "source": [
        "rels"
      ]
    },
    {
      "cell_type": "markdown",
      "id": "285eb724-2188-45d3-be78-cffb91bacee8",
      "metadata": {
        "id": "285eb724-2188-45d3-be78-cffb91bacee8"
      },
      "source": [
        "## 2.4. MRR\n",
        "\n",
        "Compute MRR:"
      ]
    },
    {
      "cell_type": "code",
      "execution_count": null,
      "id": "33c40e3b-24d2-4c7b-860e-d543c1281f01",
      "metadata": {
        "id": "33c40e3b-24d2-4c7b-860e-d543c1281f01"
      },
      "outputs": [],
      "source": [
        "def mrr(list_of_lists, k=10):\n",
        "    # todo your code here\n",
        "\n",
        "    score = 0\n",
        "    for li in list_of_lists:\n",
        "      if 1 not in li:\n",
        "        score += 1/(k+1)\n",
        "      else:\n",
        "        score += 1/(li.index(1) + 1) \n",
        "    return score / len(list_of_lists)"
      ]
    },
    {
      "cell_type": "code",
      "execution_count": null,
      "id": "e64c4e28-9ae7-4715-96a2-adfa13c5b00b",
      "metadata": {
        "colab": {
          "base_uri": "https://localhost:8080/"
        },
        "id": "e64c4e28-9ae7-4715-96a2-adfa13c5b00b",
        "outputId": "6b9bdc9d-00e4-4864-dc97-0b2f7359d86f"
      },
      "outputs": [
        {
          "output_type": "execute_result",
          "data": {
            "text/plain": [
              "0.3333333333333333"
            ]
          },
          "metadata": {},
          "execution_count": 19
        }
      ],
      "source": [
        "mrr([rels]) # BTW, why do I wrap the list into additional brackets? :)"
      ]
    },
    {
      "cell_type": "markdown",
      "id": "d644d32d-3d15-4d81-b3b5-396af0e85dd1",
      "metadata": {
        "id": "d644d32d-3d15-4d81-b3b5-396af0e85dd1"
      },
      "source": [
        "## 2.5. Precision\n",
        "Compute mean precision:"
      ]
    },
    {
      "cell_type": "code",
      "execution_count": null,
      "id": "5be58a4a-deeb-48cd-9f81-cae0be9a8493",
      "metadata": {
        "id": "5be58a4a-deeb-48cd-9f81-cae0be9a8493"
      },
      "outputs": [],
      "source": [
        "def mp(list_of_lists, k=10):\n",
        "    # todo your code here\n",
        "    p = 0\n",
        "    for l in list_of_lists:\n",
        "        p += sum(l) / k\n",
        "    return p / len(list_of_lists)"
      ]
    },
    {
      "cell_type": "code",
      "execution_count": null,
      "id": "1d3fbb74-9b3d-46a2-98d9-4a8894c8e8b7",
      "metadata": {
        "colab": {
          "base_uri": "https://localhost:8080/"
        },
        "id": "1d3fbb74-9b3d-46a2-98d9-4a8894c8e8b7",
        "outputId": "24995948-f9af-453e-a545-f547886ea65a"
      },
      "outputs": [
        {
          "output_type": "execute_result",
          "data": {
            "text/plain": [
              "0.5"
            ]
          },
          "metadata": {},
          "execution_count": 21
        }
      ],
      "source": [
        "mp([rels])"
      ]
    },
    {
      "cell_type": "code",
      "source": [],
      "metadata": {
        "id": "ZKKhjpiMMJOA"
      },
      "id": "ZKKhjpiMMJOA",
      "execution_count": null,
      "outputs": []
    }
  ],
  "metadata": {
    "kernelspec": {
      "display_name": "ai",
      "language": "python",
      "name": "ai"
    },
    "language_info": {
      "codemirror_mode": {
        "name": "ipython",
        "version": 3
      },
      "file_extension": ".py",
      "mimetype": "text/x-python",
      "name": "python",
      "nbconvert_exporter": "python",
      "pygments_lexer": "ipython3",
      "version": "3.9.7"
    },
    "colab": {
      "provenance": []
    }
  },
  "nbformat": 4,
  "nbformat_minor": 5
}